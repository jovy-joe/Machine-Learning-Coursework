{
 "cells": [
  {
   "cell_type": "markdown",
   "id": "a297ff19",
   "metadata": {},
   "source": [
    "## Machine Learning Coursework"
   ]
  },
  {
   "cell_type": "markdown",
   "id": "2df869e2",
   "metadata": {},
   "source": [
    "### Imports"
   ]
  },
  {
   "cell_type": "code",
   "execution_count": 9,
   "id": "1cd72816",
   "metadata": {},
   "outputs": [],
   "source": [
    "## Import library and set the random seed.\n",
    "import numpy as np\n",
    "from sklearn.model_selection import GridSearchCV\n",
    "from aif360.datasets import AdultDataset\n",
    "from aif360.algorithms.preprocessing.optim_preproc_helpers.data_preproc_functions import load_preproc_data_adult\n",
    "from aif360.metrics import ClassificationMetric\n",
    "from aif360.algorithms.preprocessing.reweighing import Reweighing\n",
    "from sklearn.model_selection import KFold # import KFold\n",
    "from aif360.datasets import GermanDataset\n",
    "import pdb\n",
    "from sklearn.preprocessing import StandardScaler  #MinMaxScaler\n",
    "from sklearn.linear_model import LogisticRegression\n",
    "from sklearn.model_selection import *\n",
    "import seaborn as sns\n",
    "from sklearn import metrics  #Confusion Matrix\n",
    "import pandas as pd\n",
    "import matplotlib.pyplot as plt\n",
    "from aif360.datasets import BinaryLabelDataset\n",
    "from sklearn.ensemble import RandomForestClassifier\n",
    "\n",
    "np.random.seed(0)\n"
   ]
  },
  {
   "cell_type": "code",
   "execution_count": 2,
   "id": "79f25593",
   "metadata": {},
   "outputs": [
    {
     "name": "stdout",
     "output_type": "stream",
     "text": [
      "Collecting aif360\n",
      "  Downloading aif360-0.4.0-py3-none-any.whl (175 kB)\n",
      "\u001b[K     |████████████████████████████████| 175 kB 61 kB/s eta 0:00:01\n",
      "\u001b[?25hRequirement already satisfied: pandas>=0.24.0 in /opt/anaconda3/lib/python3.9/site-packages (from aif360) (1.3.4)\n",
      "Requirement already satisfied: numpy>=1.16 in /opt/anaconda3/lib/python3.9/site-packages (from aif360) (1.20.3)\n",
      "Requirement already satisfied: scikit-learn>=0.22.1 in /opt/anaconda3/lib/python3.9/site-packages (from aif360) (0.24.2)\n",
      "Collecting tempeh\n",
      "  Downloading tempeh-0.1.12-py3-none-any.whl (39 kB)\n",
      "Collecting scipy<1.6.0,>=1.2.0\n",
      "  Downloading scipy-1.5.4-cp39-cp39-macosx_10_9_x86_64.whl (29.1 MB)\n",
      "\u001b[K     |████████████████████████████████| 29.1 MB 2.3 MB/s eta 0:00:01\n",
      "\u001b[?25hRequirement already satisfied: matplotlib in /opt/anaconda3/lib/python3.9/site-packages (from aif360) (3.4.3)\n",
      "Requirement already satisfied: python-dateutil>=2.7.3 in /opt/anaconda3/lib/python3.9/site-packages (from pandas>=0.24.0->aif360) (2.8.2)\n",
      "Requirement already satisfied: pytz>=2017.3 in /opt/anaconda3/lib/python3.9/site-packages (from pandas>=0.24.0->aif360) (2021.3)\n",
      "Requirement already satisfied: six>=1.5 in /opt/anaconda3/lib/python3.9/site-packages (from python-dateutil>=2.7.3->pandas>=0.24.0->aif360) (1.16.0)\n",
      "Requirement already satisfied: threadpoolctl>=2.0.0 in /opt/anaconda3/lib/python3.9/site-packages (from scikit-learn>=0.22.1->aif360) (2.2.0)\n",
      "Requirement already satisfied: joblib>=0.11 in /opt/anaconda3/lib/python3.9/site-packages (from scikit-learn>=0.22.1->aif360) (1.1.0)\n",
      "Requirement already satisfied: pyparsing>=2.2.1 in /opt/anaconda3/lib/python3.9/site-packages (from matplotlib->aif360) (3.0.4)\n",
      "Requirement already satisfied: kiwisolver>=1.0.1 in /opt/anaconda3/lib/python3.9/site-packages (from matplotlib->aif360) (1.3.1)\n",
      "Requirement already satisfied: cycler>=0.10 in /opt/anaconda3/lib/python3.9/site-packages (from matplotlib->aif360) (0.10.0)\n",
      "Requirement already satisfied: pillow>=6.2.0 in /opt/anaconda3/lib/python3.9/site-packages (from matplotlib->aif360) (8.4.0)\n",
      "Requirement already satisfied: pytest in /opt/anaconda3/lib/python3.9/site-packages (from tempeh->aif360) (6.2.4)\n",
      "Collecting memory-profiler\n",
      "  Downloading memory_profiler-0.60.0.tar.gz (38 kB)\n",
      "Collecting shap\n",
      "  Downloading shap-0.40.0-cp39-cp39-macosx_10_9_x86_64.whl (433 kB)\n",
      "\u001b[K     |████████████████████████████████| 433 kB 2.5 MB/s eta 0:00:01\n",
      "\u001b[?25hRequirement already satisfied: requests in /opt/anaconda3/lib/python3.9/site-packages (from tempeh->aif360) (2.26.0)\n",
      "Requirement already satisfied: psutil in /opt/anaconda3/lib/python3.9/site-packages (from memory-profiler->tempeh->aif360) (5.8.0)\n",
      "Requirement already satisfied: attrs>=19.2.0 in /opt/anaconda3/lib/python3.9/site-packages (from pytest->tempeh->aif360) (21.2.0)\n",
      "Requirement already satisfied: iniconfig in /opt/anaconda3/lib/python3.9/site-packages (from pytest->tempeh->aif360) (1.1.1)\n",
      "Requirement already satisfied: packaging in /opt/anaconda3/lib/python3.9/site-packages (from pytest->tempeh->aif360) (21.0)\n",
      "Requirement already satisfied: pluggy<1.0.0a1,>=0.12 in /opt/anaconda3/lib/python3.9/site-packages (from pytest->tempeh->aif360) (0.13.1)\n",
      "Requirement already satisfied: py>=1.8.2 in /opt/anaconda3/lib/python3.9/site-packages (from pytest->tempeh->aif360) (1.10.0)\n",
      "Requirement already satisfied: toml in /opt/anaconda3/lib/python3.9/site-packages (from pytest->tempeh->aif360) (0.10.2)\n",
      "Requirement already satisfied: urllib3<1.27,>=1.21.1 in /opt/anaconda3/lib/python3.9/site-packages (from requests->tempeh->aif360) (1.26.7)\n",
      "Requirement already satisfied: charset-normalizer~=2.0.0 in /opt/anaconda3/lib/python3.9/site-packages (from requests->tempeh->aif360) (2.0.4)\n",
      "Requirement already satisfied: idna<4,>=2.5 in /opt/anaconda3/lib/python3.9/site-packages (from requests->tempeh->aif360) (3.2)\n",
      "Requirement already satisfied: certifi>=2017.4.17 in /opt/anaconda3/lib/python3.9/site-packages (from requests->tempeh->aif360) (2021.10.8)\n",
      "Requirement already satisfied: cloudpickle in /opt/anaconda3/lib/python3.9/site-packages (from shap->tempeh->aif360) (2.0.0)\n",
      "Collecting slicer==0.0.7\n",
      "  Downloading slicer-0.0.7-py3-none-any.whl (14 kB)\n",
      "Requirement already satisfied: tqdm>4.25.0 in /opt/anaconda3/lib/python3.9/site-packages (from shap->tempeh->aif360) (4.62.3)\n",
      "Requirement already satisfied: numba in /opt/anaconda3/lib/python3.9/site-packages (from shap->tempeh->aif360) (0.54.1)\n",
      "Requirement already satisfied: setuptools in /opt/anaconda3/lib/python3.9/site-packages (from numba->shap->tempeh->aif360) (58.0.4)\n",
      "Requirement already satisfied: llvmlite<0.38,>=0.37.0rc1 in /opt/anaconda3/lib/python3.9/site-packages (from numba->shap->tempeh->aif360) (0.37.0)\n",
      "Building wheels for collected packages: memory-profiler\n",
      "  Building wheel for memory-profiler (setup.py) ... \u001b[?25ldone\n",
      "\u001b[?25h  Created wheel for memory-profiler: filename=memory_profiler-0.60.0-py3-none-any.whl size=31285 sha256=9e0af966c3b3045fb062afd7d7edb7355f083333bcc988c4433c5f6701776e90\n",
      "  Stored in directory: /Users/jovyjose/Library/Caches/pip/wheels/0c/46/40/2be5888425b5058e7a3205875fda2ecf2219e515ad89dca951\n",
      "Successfully built memory-profiler\n",
      "Installing collected packages: scipy, slicer, shap, memory-profiler, tempeh, aif360\n",
      "  Attempting uninstall: scipy\n",
      "    Found existing installation: scipy 1.7.1\n",
      "    Uninstalling scipy-1.7.1:\n",
      "      Successfully uninstalled scipy-1.7.1\n",
      "Successfully installed aif360-0.4.0 memory-profiler-0.60.0 scipy-1.5.4 shap-0.40.0 slicer-0.0.7 tempeh-0.1.12\n"
     ]
    }
   ],
   "source": [
    "##Note : PLEASE INSTALL BELOW LIB'S IF ANY ERROR POPS UP!!!\n",
    "! pip install aif360\n",
    "! pip install fairlearn\n",
    "! pip install tensorflow\n",
    "! pip install wget"
   ]
  },
  {
   "cell_type": "code",
   "execution_count": 13,
   "id": "5cd02d70",
   "metadata": {},
   "outputs": [
    {
     "name": "stdout",
     "output_type": "stream",
     "text": [
      "/opt/anaconda3/lib/python3.9/site-packages/aif360/data/raw/adult\n"
     ]
    }
   ],
   "source": [
    "## directory to keep aif360 datasets\n",
    "cd /opt/anaconda3/lib/python3.9/site-packages/aif360/data/raw/adult"
   ]
  },
  {
   "cell_type": "code",
   "execution_count": 14,
   "id": "e731f91e",
   "metadata": {},
   "outputs": [
    {
     "name": "stdout",
     "output_type": "stream",
     "text": [
      "100% [............................................................] 5229 / 5229"
     ]
    }
   ],
   "source": [
    "## downloading files using wget\n",
    "import wget\n",
    "\n",
    "site_url1 = 'https://archive.ics.uci.edu/ml/machine-learning-databases/adult/adult.data'\n",
    "site_url2 = 'https://archive.ics.uci.edu/ml/machine-learning-databases/adult/adult.test'\n",
    "site_url3 = 'https://archive.ics.uci.edu/ml/machine-learning-databases/adult/adult.names'\n",
    "file_name1 = wget.download(site_url1)\n",
    "file_name2 = wget.download(site_url2)\n",
    "file_name3 = wget.download(site_url3)"
   ]
  },
  {
   "cell_type": "markdown",
   "id": "80154d37",
   "metadata": {},
   "source": [
    "### DATA PREPARATION (Adult Dataset)"
   ]
  },
  {
   "cell_type": "code",
   "execution_count": 15,
   "id": "01a09a93",
   "metadata": {},
   "outputs": [
    {
     "data": {
      "text/html": [
       "<div>\n",
       "<style scoped>\n",
       "    .dataframe tbody tr th:only-of-type {\n",
       "        vertical-align: middle;\n",
       "    }\n",
       "\n",
       "    .dataframe tbody tr th {\n",
       "        vertical-align: top;\n",
       "    }\n",
       "\n",
       "    .dataframe thead th {\n",
       "        text-align: right;\n",
       "    }\n",
       "</style>\n",
       "<table border=\"1\" class=\"dataframe\">\n",
       "  <thead>\n",
       "    <tr style=\"text-align: right;\">\n",
       "      <th></th>\n",
       "      <th>race</th>\n",
       "      <th>sex</th>\n",
       "      <th>Age (decade)=10</th>\n",
       "      <th>Age (decade)=20</th>\n",
       "      <th>Age (decade)=30</th>\n",
       "      <th>Age (decade)=40</th>\n",
       "      <th>Age (decade)=50</th>\n",
       "      <th>Age (decade)=60</th>\n",
       "      <th>Age (decade)=&gt;=70</th>\n",
       "      <th>Education Years=6</th>\n",
       "      <th>Education Years=7</th>\n",
       "      <th>Education Years=8</th>\n",
       "      <th>Education Years=9</th>\n",
       "      <th>Education Years=10</th>\n",
       "      <th>Education Years=11</th>\n",
       "      <th>Education Years=12</th>\n",
       "      <th>Education Years=&lt;6</th>\n",
       "      <th>Education Years=&gt;12</th>\n",
       "    </tr>\n",
       "  </thead>\n",
       "  <tbody>\n",
       "    <tr>\n",
       "      <th>0</th>\n",
       "      <td>0.0</td>\n",
       "      <td>1.0</td>\n",
       "      <td>0.0</td>\n",
       "      <td>1.0</td>\n",
       "      <td>0.0</td>\n",
       "      <td>0.0</td>\n",
       "      <td>0.0</td>\n",
       "      <td>0.0</td>\n",
       "      <td>0.0</td>\n",
       "      <td>0.0</td>\n",
       "      <td>1.0</td>\n",
       "      <td>0.0</td>\n",
       "      <td>0.0</td>\n",
       "      <td>0.0</td>\n",
       "      <td>0.0</td>\n",
       "      <td>0.0</td>\n",
       "      <td>0.0</td>\n",
       "      <td>0.0</td>\n",
       "    </tr>\n",
       "    <tr>\n",
       "      <th>1</th>\n",
       "      <td>1.0</td>\n",
       "      <td>1.0</td>\n",
       "      <td>0.0</td>\n",
       "      <td>0.0</td>\n",
       "      <td>1.0</td>\n",
       "      <td>0.0</td>\n",
       "      <td>0.0</td>\n",
       "      <td>0.0</td>\n",
       "      <td>0.0</td>\n",
       "      <td>0.0</td>\n",
       "      <td>0.0</td>\n",
       "      <td>0.0</td>\n",
       "      <td>1.0</td>\n",
       "      <td>0.0</td>\n",
       "      <td>0.0</td>\n",
       "      <td>0.0</td>\n",
       "      <td>0.0</td>\n",
       "      <td>0.0</td>\n",
       "    </tr>\n",
       "    <tr>\n",
       "      <th>2</th>\n",
       "      <td>1.0</td>\n",
       "      <td>1.0</td>\n",
       "      <td>0.0</td>\n",
       "      <td>1.0</td>\n",
       "      <td>0.0</td>\n",
       "      <td>0.0</td>\n",
       "      <td>0.0</td>\n",
       "      <td>0.0</td>\n",
       "      <td>0.0</td>\n",
       "      <td>0.0</td>\n",
       "      <td>0.0</td>\n",
       "      <td>0.0</td>\n",
       "      <td>0.0</td>\n",
       "      <td>0.0</td>\n",
       "      <td>0.0</td>\n",
       "      <td>1.0</td>\n",
       "      <td>0.0</td>\n",
       "      <td>0.0</td>\n",
       "    </tr>\n",
       "    <tr>\n",
       "      <th>3</th>\n",
       "      <td>0.0</td>\n",
       "      <td>1.0</td>\n",
       "      <td>0.0</td>\n",
       "      <td>0.0</td>\n",
       "      <td>0.0</td>\n",
       "      <td>1.0</td>\n",
       "      <td>0.0</td>\n",
       "      <td>0.0</td>\n",
       "      <td>0.0</td>\n",
       "      <td>0.0</td>\n",
       "      <td>0.0</td>\n",
       "      <td>0.0</td>\n",
       "      <td>0.0</td>\n",
       "      <td>1.0</td>\n",
       "      <td>0.0</td>\n",
       "      <td>0.0</td>\n",
       "      <td>0.0</td>\n",
       "      <td>0.0</td>\n",
       "    </tr>\n",
       "    <tr>\n",
       "      <th>4</th>\n",
       "      <td>1.0</td>\n",
       "      <td>0.0</td>\n",
       "      <td>1.0</td>\n",
       "      <td>0.0</td>\n",
       "      <td>0.0</td>\n",
       "      <td>0.0</td>\n",
       "      <td>0.0</td>\n",
       "      <td>0.0</td>\n",
       "      <td>0.0</td>\n",
       "      <td>0.0</td>\n",
       "      <td>0.0</td>\n",
       "      <td>0.0</td>\n",
       "      <td>0.0</td>\n",
       "      <td>1.0</td>\n",
       "      <td>0.0</td>\n",
       "      <td>0.0</td>\n",
       "      <td>0.0</td>\n",
       "      <td>0.0</td>\n",
       "    </tr>\n",
       "    <tr>\n",
       "      <th>...</th>\n",
       "      <td>...</td>\n",
       "      <td>...</td>\n",
       "      <td>...</td>\n",
       "      <td>...</td>\n",
       "      <td>...</td>\n",
       "      <td>...</td>\n",
       "      <td>...</td>\n",
       "      <td>...</td>\n",
       "      <td>...</td>\n",
       "      <td>...</td>\n",
       "      <td>...</td>\n",
       "      <td>...</td>\n",
       "      <td>...</td>\n",
       "      <td>...</td>\n",
       "      <td>...</td>\n",
       "      <td>...</td>\n",
       "      <td>...</td>\n",
       "      <td>...</td>\n",
       "    </tr>\n",
       "    <tr>\n",
       "      <th>48837</th>\n",
       "      <td>1.0</td>\n",
       "      <td>0.0</td>\n",
       "      <td>0.0</td>\n",
       "      <td>1.0</td>\n",
       "      <td>0.0</td>\n",
       "      <td>0.0</td>\n",
       "      <td>0.0</td>\n",
       "      <td>0.0</td>\n",
       "      <td>0.0</td>\n",
       "      <td>0.0</td>\n",
       "      <td>0.0</td>\n",
       "      <td>0.0</td>\n",
       "      <td>0.0</td>\n",
       "      <td>0.0</td>\n",
       "      <td>0.0</td>\n",
       "      <td>1.0</td>\n",
       "      <td>0.0</td>\n",
       "      <td>0.0</td>\n",
       "    </tr>\n",
       "    <tr>\n",
       "      <th>48838</th>\n",
       "      <td>1.0</td>\n",
       "      <td>1.0</td>\n",
       "      <td>0.0</td>\n",
       "      <td>0.0</td>\n",
       "      <td>0.0</td>\n",
       "      <td>1.0</td>\n",
       "      <td>0.0</td>\n",
       "      <td>0.0</td>\n",
       "      <td>0.0</td>\n",
       "      <td>0.0</td>\n",
       "      <td>0.0</td>\n",
       "      <td>0.0</td>\n",
       "      <td>1.0</td>\n",
       "      <td>0.0</td>\n",
       "      <td>0.0</td>\n",
       "      <td>0.0</td>\n",
       "      <td>0.0</td>\n",
       "      <td>0.0</td>\n",
       "    </tr>\n",
       "    <tr>\n",
       "      <th>48839</th>\n",
       "      <td>1.0</td>\n",
       "      <td>0.0</td>\n",
       "      <td>0.0</td>\n",
       "      <td>0.0</td>\n",
       "      <td>0.0</td>\n",
       "      <td>0.0</td>\n",
       "      <td>1.0</td>\n",
       "      <td>0.0</td>\n",
       "      <td>0.0</td>\n",
       "      <td>0.0</td>\n",
       "      <td>0.0</td>\n",
       "      <td>0.0</td>\n",
       "      <td>1.0</td>\n",
       "      <td>0.0</td>\n",
       "      <td>0.0</td>\n",
       "      <td>0.0</td>\n",
       "      <td>0.0</td>\n",
       "      <td>0.0</td>\n",
       "    </tr>\n",
       "    <tr>\n",
       "      <th>48840</th>\n",
       "      <td>1.0</td>\n",
       "      <td>1.0</td>\n",
       "      <td>0.0</td>\n",
       "      <td>1.0</td>\n",
       "      <td>0.0</td>\n",
       "      <td>0.0</td>\n",
       "      <td>0.0</td>\n",
       "      <td>0.0</td>\n",
       "      <td>0.0</td>\n",
       "      <td>0.0</td>\n",
       "      <td>0.0</td>\n",
       "      <td>0.0</td>\n",
       "      <td>1.0</td>\n",
       "      <td>0.0</td>\n",
       "      <td>0.0</td>\n",
       "      <td>0.0</td>\n",
       "      <td>0.0</td>\n",
       "      <td>0.0</td>\n",
       "    </tr>\n",
       "    <tr>\n",
       "      <th>48841</th>\n",
       "      <td>1.0</td>\n",
       "      <td>0.0</td>\n",
       "      <td>0.0</td>\n",
       "      <td>0.0</td>\n",
       "      <td>0.0</td>\n",
       "      <td>0.0</td>\n",
       "      <td>1.0</td>\n",
       "      <td>0.0</td>\n",
       "      <td>0.0</td>\n",
       "      <td>0.0</td>\n",
       "      <td>0.0</td>\n",
       "      <td>0.0</td>\n",
       "      <td>1.0</td>\n",
       "      <td>0.0</td>\n",
       "      <td>0.0</td>\n",
       "      <td>0.0</td>\n",
       "      <td>0.0</td>\n",
       "      <td>0.0</td>\n",
       "    </tr>\n",
       "  </tbody>\n",
       "</table>\n",
       "<p>48842 rows × 18 columns</p>\n",
       "</div>"
      ],
      "text/plain": [
       "       race  sex  Age (decade)=10  Age (decade)=20  Age (decade)=30  \\\n",
       "0       0.0  1.0              0.0              1.0              0.0   \n",
       "1       1.0  1.0              0.0              0.0              1.0   \n",
       "2       1.0  1.0              0.0              1.0              0.0   \n",
       "3       0.0  1.0              0.0              0.0              0.0   \n",
       "4       1.0  0.0              1.0              0.0              0.0   \n",
       "...     ...  ...              ...              ...              ...   \n",
       "48837   1.0  0.0              0.0              1.0              0.0   \n",
       "48838   1.0  1.0              0.0              0.0              0.0   \n",
       "48839   1.0  0.0              0.0              0.0              0.0   \n",
       "48840   1.0  1.0              0.0              1.0              0.0   \n",
       "48841   1.0  0.0              0.0              0.0              0.0   \n",
       "\n",
       "       Age (decade)=40  Age (decade)=50  Age (decade)=60  Age (decade)=>=70  \\\n",
       "0                  0.0              0.0              0.0                0.0   \n",
       "1                  0.0              0.0              0.0                0.0   \n",
       "2                  0.0              0.0              0.0                0.0   \n",
       "3                  1.0              0.0              0.0                0.0   \n",
       "4                  0.0              0.0              0.0                0.0   \n",
       "...                ...              ...              ...                ...   \n",
       "48837              0.0              0.0              0.0                0.0   \n",
       "48838              1.0              0.0              0.0                0.0   \n",
       "48839              0.0              1.0              0.0                0.0   \n",
       "48840              0.0              0.0              0.0                0.0   \n",
       "48841              0.0              1.0              0.0                0.0   \n",
       "\n",
       "       Education Years=6  Education Years=7  Education Years=8  \\\n",
       "0                    0.0                1.0                0.0   \n",
       "1                    0.0                0.0                0.0   \n",
       "2                    0.0                0.0                0.0   \n",
       "3                    0.0                0.0                0.0   \n",
       "4                    0.0                0.0                0.0   \n",
       "...                  ...                ...                ...   \n",
       "48837                0.0                0.0                0.0   \n",
       "48838                0.0                0.0                0.0   \n",
       "48839                0.0                0.0                0.0   \n",
       "48840                0.0                0.0                0.0   \n",
       "48841                0.0                0.0                0.0   \n",
       "\n",
       "       Education Years=9  Education Years=10  Education Years=11  \\\n",
       "0                    0.0                 0.0                 0.0   \n",
       "1                    1.0                 0.0                 0.0   \n",
       "2                    0.0                 0.0                 0.0   \n",
       "3                    0.0                 1.0                 0.0   \n",
       "4                    0.0                 1.0                 0.0   \n",
       "...                  ...                 ...                 ...   \n",
       "48837                0.0                 0.0                 0.0   \n",
       "48838                1.0                 0.0                 0.0   \n",
       "48839                1.0                 0.0                 0.0   \n",
       "48840                1.0                 0.0                 0.0   \n",
       "48841                1.0                 0.0                 0.0   \n",
       "\n",
       "       Education Years=12  Education Years=<6  Education Years=>12  \n",
       "0                     0.0                 0.0                  0.0  \n",
       "1                     0.0                 0.0                  0.0  \n",
       "2                     1.0                 0.0                  0.0  \n",
       "3                     0.0                 0.0                  0.0  \n",
       "4                     0.0                 0.0                  0.0  \n",
       "...                   ...                 ...                  ...  \n",
       "48837                 1.0                 0.0                  0.0  \n",
       "48838                 0.0                 0.0                  0.0  \n",
       "48839                 0.0                 0.0                  0.0  \n",
       "48840                 0.0                 0.0                  0.0  \n",
       "48841                 0.0                 0.0                  0.0  \n",
       "\n",
       "[48842 rows x 18 columns]"
      ]
     },
     "execution_count": 15,
     "metadata": {},
     "output_type": "execute_result"
    }
   ],
   "source": [
    "### creating pandas dataframe for visualiztion\n",
    "df_aif = pd.DataFrame(load_preproc_data_adult().features)\n",
    "df_aif.columns=load_preproc_data_adult().feature_names\n",
    "df_aif"
   ]
  },
  {
   "cell_type": "code",
   "execution_count": 16,
   "id": "54b436e4",
   "metadata": {},
   "outputs": [
    {
     "data": {
      "text/html": [
       "<div>\n",
       "<style scoped>\n",
       "    .dataframe tbody tr th:only-of-type {\n",
       "        vertical-align: middle;\n",
       "    }\n",
       "\n",
       "    .dataframe tbody tr th {\n",
       "        vertical-align: top;\n",
       "    }\n",
       "\n",
       "    .dataframe thead th {\n",
       "        text-align: right;\n",
       "    }\n",
       "</style>\n",
       "<table border=\"1\" class=\"dataframe\">\n",
       "  <thead>\n",
       "    <tr style=\"text-align: right;\">\n",
       "      <th></th>\n",
       "      <th>race</th>\n",
       "      <th>sex</th>\n",
       "      <th>Age (decade)=10</th>\n",
       "      <th>Age (decade)=20</th>\n",
       "      <th>Age (decade)=30</th>\n",
       "      <th>Age (decade)=40</th>\n",
       "      <th>Age (decade)=50</th>\n",
       "      <th>Age (decade)=60</th>\n",
       "      <th>Age (decade)=&gt;=70</th>\n",
       "      <th>Education Years=6</th>\n",
       "      <th>Education Years=7</th>\n",
       "      <th>Education Years=8</th>\n",
       "      <th>Education Years=9</th>\n",
       "      <th>Education Years=10</th>\n",
       "      <th>Education Years=11</th>\n",
       "      <th>Education Years=12</th>\n",
       "      <th>Education Years=&lt;6</th>\n",
       "      <th>Education Years=&gt;12</th>\n",
       "    </tr>\n",
       "  </thead>\n",
       "  <tbody>\n",
       "    <tr>\n",
       "      <th>count</th>\n",
       "      <td>48842.000000</td>\n",
       "      <td>48842.000000</td>\n",
       "      <td>48842.000000</td>\n",
       "      <td>48842.000000</td>\n",
       "      <td>48842.000000</td>\n",
       "      <td>48842.000000</td>\n",
       "      <td>48842.000000</td>\n",
       "      <td>48842.000000</td>\n",
       "      <td>48842.000000</td>\n",
       "      <td>48842.000000</td>\n",
       "      <td>48842.000000</td>\n",
       "      <td>48842.000000</td>\n",
       "      <td>48842.000000</td>\n",
       "      <td>48842.000000</td>\n",
       "      <td>48842.000000</td>\n",
       "      <td>48842.000000</td>\n",
       "      <td>48842.000000</td>\n",
       "      <td>48842.000000</td>\n",
       "    </tr>\n",
       "    <tr>\n",
       "      <th>mean</th>\n",
       "      <td>0.855043</td>\n",
       "      <td>0.668482</td>\n",
       "      <td>0.051390</td>\n",
       "      <td>0.245793</td>\n",
       "      <td>0.264711</td>\n",
       "      <td>0.219565</td>\n",
       "      <td>0.135519</td>\n",
       "      <td>0.062528</td>\n",
       "      <td>0.020495</td>\n",
       "      <td>0.028439</td>\n",
       "      <td>0.037099</td>\n",
       "      <td>0.013452</td>\n",
       "      <td>0.323164</td>\n",
       "      <td>0.222718</td>\n",
       "      <td>0.042197</td>\n",
       "      <td>0.032779</td>\n",
       "      <td>0.052209</td>\n",
       "      <td>0.247942</td>\n",
       "    </tr>\n",
       "    <tr>\n",
       "      <th>std</th>\n",
       "      <td>0.352061</td>\n",
       "      <td>0.470764</td>\n",
       "      <td>0.220795</td>\n",
       "      <td>0.430561</td>\n",
       "      <td>0.441184</td>\n",
       "      <td>0.413956</td>\n",
       "      <td>0.342280</td>\n",
       "      <td>0.242115</td>\n",
       "      <td>0.141686</td>\n",
       "      <td>0.166224</td>\n",
       "      <td>0.189007</td>\n",
       "      <td>0.115199</td>\n",
       "      <td>0.467690</td>\n",
       "      <td>0.416075</td>\n",
       "      <td>0.201041</td>\n",
       "      <td>0.178060</td>\n",
       "      <td>0.222451</td>\n",
       "      <td>0.431823</td>\n",
       "    </tr>\n",
       "    <tr>\n",
       "      <th>min</th>\n",
       "      <td>0.000000</td>\n",
       "      <td>0.000000</td>\n",
       "      <td>0.000000</td>\n",
       "      <td>0.000000</td>\n",
       "      <td>0.000000</td>\n",
       "      <td>0.000000</td>\n",
       "      <td>0.000000</td>\n",
       "      <td>0.000000</td>\n",
       "      <td>0.000000</td>\n",
       "      <td>0.000000</td>\n",
       "      <td>0.000000</td>\n",
       "      <td>0.000000</td>\n",
       "      <td>0.000000</td>\n",
       "      <td>0.000000</td>\n",
       "      <td>0.000000</td>\n",
       "      <td>0.000000</td>\n",
       "      <td>0.000000</td>\n",
       "      <td>0.000000</td>\n",
       "    </tr>\n",
       "    <tr>\n",
       "      <th>25%</th>\n",
       "      <td>1.000000</td>\n",
       "      <td>0.000000</td>\n",
       "      <td>0.000000</td>\n",
       "      <td>0.000000</td>\n",
       "      <td>0.000000</td>\n",
       "      <td>0.000000</td>\n",
       "      <td>0.000000</td>\n",
       "      <td>0.000000</td>\n",
       "      <td>0.000000</td>\n",
       "      <td>0.000000</td>\n",
       "      <td>0.000000</td>\n",
       "      <td>0.000000</td>\n",
       "      <td>0.000000</td>\n",
       "      <td>0.000000</td>\n",
       "      <td>0.000000</td>\n",
       "      <td>0.000000</td>\n",
       "      <td>0.000000</td>\n",
       "      <td>0.000000</td>\n",
       "    </tr>\n",
       "    <tr>\n",
       "      <th>50%</th>\n",
       "      <td>1.000000</td>\n",
       "      <td>1.000000</td>\n",
       "      <td>0.000000</td>\n",
       "      <td>0.000000</td>\n",
       "      <td>0.000000</td>\n",
       "      <td>0.000000</td>\n",
       "      <td>0.000000</td>\n",
       "      <td>0.000000</td>\n",
       "      <td>0.000000</td>\n",
       "      <td>0.000000</td>\n",
       "      <td>0.000000</td>\n",
       "      <td>0.000000</td>\n",
       "      <td>0.000000</td>\n",
       "      <td>0.000000</td>\n",
       "      <td>0.000000</td>\n",
       "      <td>0.000000</td>\n",
       "      <td>0.000000</td>\n",
       "      <td>0.000000</td>\n",
       "    </tr>\n",
       "    <tr>\n",
       "      <th>75%</th>\n",
       "      <td>1.000000</td>\n",
       "      <td>1.000000</td>\n",
       "      <td>0.000000</td>\n",
       "      <td>0.000000</td>\n",
       "      <td>1.000000</td>\n",
       "      <td>0.000000</td>\n",
       "      <td>0.000000</td>\n",
       "      <td>0.000000</td>\n",
       "      <td>0.000000</td>\n",
       "      <td>0.000000</td>\n",
       "      <td>0.000000</td>\n",
       "      <td>0.000000</td>\n",
       "      <td>1.000000</td>\n",
       "      <td>0.000000</td>\n",
       "      <td>0.000000</td>\n",
       "      <td>0.000000</td>\n",
       "      <td>0.000000</td>\n",
       "      <td>0.000000</td>\n",
       "    </tr>\n",
       "    <tr>\n",
       "      <th>max</th>\n",
       "      <td>1.000000</td>\n",
       "      <td>1.000000</td>\n",
       "      <td>1.000000</td>\n",
       "      <td>1.000000</td>\n",
       "      <td>1.000000</td>\n",
       "      <td>1.000000</td>\n",
       "      <td>1.000000</td>\n",
       "      <td>1.000000</td>\n",
       "      <td>1.000000</td>\n",
       "      <td>1.000000</td>\n",
       "      <td>1.000000</td>\n",
       "      <td>1.000000</td>\n",
       "      <td>1.000000</td>\n",
       "      <td>1.000000</td>\n",
       "      <td>1.000000</td>\n",
       "      <td>1.000000</td>\n",
       "      <td>1.000000</td>\n",
       "      <td>1.000000</td>\n",
       "    </tr>\n",
       "  </tbody>\n",
       "</table>\n",
       "</div>"
      ],
      "text/plain": [
       "               race           sex  Age (decade)=10  Age (decade)=20  \\\n",
       "count  48842.000000  48842.000000     48842.000000     48842.000000   \n",
       "mean       0.855043      0.668482         0.051390         0.245793   \n",
       "std        0.352061      0.470764         0.220795         0.430561   \n",
       "min        0.000000      0.000000         0.000000         0.000000   \n",
       "25%        1.000000      0.000000         0.000000         0.000000   \n",
       "50%        1.000000      1.000000         0.000000         0.000000   \n",
       "75%        1.000000      1.000000         0.000000         0.000000   \n",
       "max        1.000000      1.000000         1.000000         1.000000   \n",
       "\n",
       "       Age (decade)=30  Age (decade)=40  Age (decade)=50  Age (decade)=60  \\\n",
       "count     48842.000000     48842.000000     48842.000000     48842.000000   \n",
       "mean          0.264711         0.219565         0.135519         0.062528   \n",
       "std           0.441184         0.413956         0.342280         0.242115   \n",
       "min           0.000000         0.000000         0.000000         0.000000   \n",
       "25%           0.000000         0.000000         0.000000         0.000000   \n",
       "50%           0.000000         0.000000         0.000000         0.000000   \n",
       "75%           1.000000         0.000000         0.000000         0.000000   \n",
       "max           1.000000         1.000000         1.000000         1.000000   \n",
       "\n",
       "       Age (decade)=>=70  Education Years=6  Education Years=7  \\\n",
       "count       48842.000000       48842.000000       48842.000000   \n",
       "mean            0.020495           0.028439           0.037099   \n",
       "std             0.141686           0.166224           0.189007   \n",
       "min             0.000000           0.000000           0.000000   \n",
       "25%             0.000000           0.000000           0.000000   \n",
       "50%             0.000000           0.000000           0.000000   \n",
       "75%             0.000000           0.000000           0.000000   \n",
       "max             1.000000           1.000000           1.000000   \n",
       "\n",
       "       Education Years=8  Education Years=9  Education Years=10  \\\n",
       "count       48842.000000       48842.000000        48842.000000   \n",
       "mean            0.013452           0.323164            0.222718   \n",
       "std             0.115199           0.467690            0.416075   \n",
       "min             0.000000           0.000000            0.000000   \n",
       "25%             0.000000           0.000000            0.000000   \n",
       "50%             0.000000           0.000000            0.000000   \n",
       "75%             0.000000           1.000000            0.000000   \n",
       "max             1.000000           1.000000            1.000000   \n",
       "\n",
       "       Education Years=11  Education Years=12  Education Years=<6  \\\n",
       "count        48842.000000        48842.000000        48842.000000   \n",
       "mean             0.042197            0.032779            0.052209   \n",
       "std              0.201041            0.178060            0.222451   \n",
       "min              0.000000            0.000000            0.000000   \n",
       "25%              0.000000            0.000000            0.000000   \n",
       "50%              0.000000            0.000000            0.000000   \n",
       "75%              0.000000            0.000000            0.000000   \n",
       "max              1.000000            1.000000            1.000000   \n",
       "\n",
       "       Education Years=>12  \n",
       "count         48842.000000  \n",
       "mean              0.247942  \n",
       "std               0.431823  \n",
       "min               0.000000  \n",
       "25%               0.000000  \n",
       "50%               0.000000  \n",
       "75%               0.000000  \n",
       "max               1.000000  "
      ]
     },
     "execution_count": 16,
     "metadata": {},
     "output_type": "execute_result"
    }
   ],
   "source": [
    "df_aif.describe()"
   ]
  },
  {
   "cell_type": "markdown",
   "id": "6c9472cd",
   "metadata": {},
   "source": [
    "### Splitting dataset (70/30)"
   ]
  },
  {
   "cell_type": "code",
   "execution_count": 113,
   "id": "89763c19",
   "metadata": {},
   "outputs": [
    {
     "name": "stdout",
     "output_type": "stream",
     "text": [
      "training data size (34189, 18)\n",
      "dataset feature names ['race', 'sex', 'Age (decade)=10', 'Age (decade)=20', 'Age (decade)=30', 'Age (decade)=40', 'Age (decade)=50', 'Age (decade)=60', 'Age (decade)=>=70', 'Education Years=6', 'Education Years=7', 'Education Years=8', 'Education Years=9', 'Education Years=10', 'Education Years=11', 'Education Years=12', 'Education Years=<6', 'Education Years=>12']\n"
     ]
    }
   ],
   "source": [
    "## define privileged and non-privileged groups\n",
    "privileged_groups = [{'sex': 1}]\n",
    "unprivileged_groups = [{'sex': 0}]\n",
    "dataset_orig = load_preproc_data_adult(['sex'])\n",
    "\n",
    "\n",
    "#splitting training and test set.\n",
    "train, test = dataset_orig.split([0.7], shuffle=True)\n",
    "print(\"training data size\", train.features.shape)\n",
    "print(\"dataset feature names\", train.feature_names)\n",
    "\n",
    "#Normalize the dataset, both train and test.\n",
    "scale_orig = StandardScaler()\n",
    "X_train = scale_orig.fit_transform(train.features)\n",
    "y_train = train.labels.ravel()\n",
    "\n",
    "X_test = scale_orig.transform(test.features) \n",
    "y_test = test.labels.ravel()"
   ]
  },
  {
   "cell_type": "markdown",
   "id": "4515a167",
   "metadata": {},
   "source": [
    "## Preliminary Analysis"
   ]
  },
  {
   "cell_type": "markdown",
   "id": "4ce08f4d",
   "metadata": {},
   "source": [
    "### Grid Search for optimum C value"
   ]
  },
  {
   "cell_type": "code",
   "execution_count": 110,
   "id": "e2c6aec5",
   "metadata": {},
   "outputs": [
    {
     "name": "stdout",
     "output_type": "stream",
     "text": [
      "tuned hpyerparameters :(best parameters)  {'C': 1.0, 'penalty': 'l2'}\n",
      "best score : 0.7471428571428571\n"
     ]
    }
   ],
   "source": [
    "## perform grid-search to find best hyperparameter\n",
    "grid={\"C\": np.arange(1, 2, 0.001), \"penalty\":[\"l2\"]}# l1 lasso l2 ridge\n",
    "\n",
    "logreg_cv=GridSearchCV(LogisticRegression(),grid,n_jobs=-1)\n",
    "logreg_cv.fit(X_train,y_train)\n",
    "\n",
    "print(\"tuned hpyerparameters :(best parameters) \",logreg_cv.best_params_)\n",
    "print(\"best score :\",logreg_cv.best_score_)"
   ]
  },
  {
   "cell_type": "markdown",
   "id": "bbff5d82",
   "metadata": {},
   "source": [
    "### Trying GridSearch with finer C Value"
   ]
  },
  {
   "cell_type": "code",
   "execution_count": 111,
   "id": "f6d12e30",
   "metadata": {},
   "outputs": [
    {
     "name": "stdout",
     "output_type": "stream",
     "text": [
      "tuned hpyerparameters :(best parameters)  {'C': 0.012999999999999998, 'penalty': 'l2'}\n",
      "best score : 0.75\n"
     ]
    }
   ],
   "source": [
    "## trying grid-search\n",
    "grid={\"C\": np.arange(0.01, 1, 0.001), \"penalty\":[\"l2\"]}# l1 lasso l2 ridge\n",
    "\n",
    "logreg_cv=GridSearchCV(LogisticRegression(),grid,n_jobs=-1,scoring='accuracy')\n",
    "logreg_cv.fit(X_train,y_train)\n",
    "\n",
    "print(\"tuned hpyerparameters :(best parameters) \",logreg_cv.best_params_)\n",
    "print(\"best score :\",logreg_cv.best_score_)"
   ]
  },
  {
   "cell_type": "markdown",
   "id": "b48fb490",
   "metadata": {},
   "source": [
    "## LogisticRegression Model"
   ]
  },
  {
   "cell_type": "markdown",
   "id": "3506aa22",
   "metadata": {},
   "source": [
    "## Task 1"
   ]
  },
  {
   "cell_type": "markdown",
   "id": "d666e44f",
   "metadata": {},
   "source": [
    "### 5-Fold Cross-Validation"
   ]
  },
  {
   "cell_type": "code",
   "execution_count": 18,
   "id": "e30f8e20",
   "metadata": {},
   "outputs": [],
   "source": [
    "## function implementing 5-fold cross-validation\n",
    "#Train a standard classifier, compute accuracy and fairness metric (Equal oppurtunity difference)\n",
    "\n",
    "def accuracy_fold(C=1):\n",
    "    \n",
    "    X_train_val = train.features\n",
    "    y_train_val = train.labels.ravel()\n",
    "    accuracy_val=[]\n",
    "    tpr_val=[]\n",
    "    ### splitting training data into 5-fold using KFold split from scikit-learn\n",
    "    for k, (train_k, val_k) in enumerate(KFold(5).split(X_train_val)):\n",
    "    ### using subset method from aif360 dataset\n",
    "        x_train, x_val = train.subset(train_k), train.subset(val_k)\n",
    "        ### scaling the features\n",
    "        x_val_scaled= scale_orig.transform(x_val.features)\n",
    "        y_val = x_val.labels.ravel()\n",
    "        ### # instantiate the model (using parameters)\n",
    "        learner_val = LogisticRegression(C=C,solver='liblinear', random_state=1) \n",
    "        # fit the model with data (validation)\n",
    "        learner_val.fit(X_train_val, y_train_val)\n",
    "        predictions= learner_val.predict(x_val_scaled)\n",
    "\n",
    "        test_pred_k = x_val.copy()\n",
    "        test_pred_k.labels = predictions\n",
    "        accuracy= sum(predictions== y_val) /len(y_val)\n",
    "        accuracy_val.append(accuracy)\n",
    "        ### finding equal oppurtunity metric \n",
    "        metric = ClassificationMetric(x_val, test_pred_k, unprivileged_groups=unprivileged_groups, privileged_groups=privileged_groups)\n",
    "        metric_arrs=(metric.equal_opportunity_difference())\n",
    "        #print(\"Equal oppurtunity difference in Fold: {} \".format(k+1),metric_arrs)\n",
    "        tpr_val.append(metric_arrs)\n",
    "        # Print the average 5-fold cross-validation score\n",
    "    \n",
    "    return np.mean(accuracy_val),np.mean(tpr_val)"
   ]
  },
  {
   "cell_type": "code",
   "execution_count": 19,
   "id": "858b9482",
   "metadata": {},
   "outputs": [
    {
     "data": {
      "text/plain": [
       "(0.7558571864127466, -0.488622361692161)"
      ]
     },
     "execution_count": 19,
     "metadata": {},
     "output_type": "execute_result"
    }
   ],
   "source": [
    "accuracy_fold(1)"
   ]
  },
  {
   "cell_type": "markdown",
   "id": "00e7516c",
   "metadata": {},
   "source": [
    "### Accuracy & Fairness Metric based on C-value tuning"
   ]
  },
  {
   "cell_type": "code",
   "execution_count": 20,
   "id": "56e9a52b",
   "metadata": {},
   "outputs": [
    {
     "data": {
      "text/plain": [
       "Text(0.5, 0, 'C value')"
      ]
     },
     "execution_count": 20,
     "metadata": {},
     "output_type": "execute_result"
    },
    {
     "data": {
      "image/png": "[encoded data removed]",
      "text/plain": [
       "<Figure size 432x288 with 1 Axes>"
      ]
     },
     "metadata": {
      "needs_background": "light"
     },
     "output_type": "display_data"
    }
   ],
   "source": [
    "## Plotting Accuracy & C-value using matplot lib\n",
    "accuracy=[]\n",
    "r_ange=np.arange(0.01, 1, 0.1)\n",
    "for i in r_ange:\n",
    "    x,_=accuracy_fold(i)\n",
    "    accuracy.append(x)\n",
    "    \n",
    "plt.plot(r_ange,accuracy)\n",
    "plt.ylabel (\"Accuracy after 5-fold cross-validation\")\n",
    "plt.xlabel(\"C value\")\n"
   ]
  },
  {
   "cell_type": "markdown",
   "id": "4e675e4f",
   "metadata": {},
   "source": [
    "## Model 1 : Best Accurate "
   ]
  },
  {
   "cell_type": "code",
   "execution_count": 21,
   "id": "301fa820",
   "metadata": {},
   "outputs": [
    {
     "data": {
      "text/plain": [
       "(0.7765072177722313, -0.1556697145023786)"
      ]
     },
     "execution_count": 21,
     "metadata": {},
     "output_type": "execute_result"
    }
   ],
   "source": [
    "## model with best accuracy in 5-folds\n",
    "accuracy_fold(0.002)"
   ]
  },
  {
   "cell_type": "markdown",
   "id": "30efbc65",
   "metadata": {},
   "source": [
    "## Model 2 : Best Fairness Metric"
   ]
  },
  {
   "cell_type": "code",
   "execution_count": 22,
   "id": "f3424718",
   "metadata": {},
   "outputs": [
    {
     "data": {
      "text/plain": [
       "Text(0.5, 0, 'C value')"
      ]
     },
     "execution_count": 22,
     "metadata": {},
     "output_type": "execute_result"
    },
    {
     "data": {
      "image/png": "[encoded data removed]",
      "text/plain": [
       "<Figure size 432x288 with 1 Axes>"
      ]
     },
     "metadata": {
      "needs_background": "light"
     },
     "output_type": "display_data"
    }
   ],
   "source": [
    "## Plotting Fairness metric & C-value using matplot lib\n",
    "tpr_kfold=[]\n",
    "r_ange=np.arange(0.0003, 0.0006, 0.00001)\n",
    "for i in r_ange:\n",
    "    _,y=accuracy_fold(i)\n",
    "    tpr_kfold.append(y)\n",
    "\n",
    "plt.plot(r_ange,tpr_kfold)\n",
    "plt.ylabel (\"Equality of Oppurtunity after 5-fold\")\n",
    "plt.xlabel(\"C value\")"
   ]
  },
  {
   "cell_type": "code",
   "execution_count": 23,
   "id": "43dba59b",
   "metadata": {},
   "outputs": [
    {
     "data": {
      "text/plain": [
       "(0.7537220762943472, -0.01321012837729737)"
      ]
     },
     "execution_count": 23,
     "metadata": {},
     "output_type": "execute_result"
    }
   ],
   "source": [
    "## model with best fairness metric in 5-folds\n",
    "accuracy_fold(0.00034)"
   ]
  },
  {
   "cell_type": "markdown",
   "id": "db136041",
   "metadata": {},
   "source": [
    "### Final Evaluation on Test data"
   ]
  },
  {
   "cell_type": "markdown",
   "id": "d0215836",
   "metadata": {},
   "source": [
    "### Model 1 - Best Accuracy"
   ]
  },
  {
   "cell_type": "code",
   "execution_count": 24,
   "id": "b8166823",
   "metadata": {},
   "outputs": [],
   "source": [
    "## function to visualize and print model values \n",
    "def test_data_eval(C=1):\n",
    "    \n",
    "    # use best accurate model above to predict Test data\n",
    "    learner_acc = LogisticRegression(C=C,solver='liblinear', random_state=1)\n",
    "    learner_acc.fit(X_train,y_train)\n",
    "    y_pred = learner_acc.predict(X_test)\n",
    "\n",
    "    # confusion matrix\n",
    "    cnf_matrix = metrics.confusion_matrix(y_test, y_pred)\n",
    "    cnf_matrix\n",
    "\n",
    "    class_names=[0,1] # name  of classes\n",
    "    fig, ax = plt.subplots()\n",
    "    tick_marks = np.arange(len(class_names))\n",
    "    plt.xticks(tick_marks, class_names)\n",
    "    plt.yticks(tick_marks, class_names)\n",
    "    # create heatmap\n",
    "    sns.heatmap(pd.DataFrame(cnf_matrix), annot=True, cmap=\"YlGnBu\" ,fmt='g')\n",
    "    ax.xaxis.set_label_position(\"top\")\n",
    "    plt.tight_layout()\n",
    "    plt.title('Confusion matrix', y=1.1)\n",
    "    plt.ylabel('Actual label')\n",
    "    plt.xlabel('Predicted label')\n",
    "\n",
    "    ## fairness metric calculation\n",
    "    test_pred = test.copy()\n",
    "    y_pred.resize((len(y_pred),1))\n",
    "    test_pred.labels = y_pred\n",
    "\n",
    "    metric = ClassificationMetric(test, test_pred, unprivileged_groups=unprivileged_groups, privileged_groups=privileged_groups)\n",
    "    metric_arrs=(metric.equal_opportunity_difference())\n",
    "\n",
    "    print(\"Accuracy:\",metrics.accuracy_score(y_test, y_pred))\n",
    "    print(\"\\nEqual oppurtunity difference :\",metric_arrs)\n"
   ]
  },
  {
   "cell_type": "code",
   "execution_count": 25,
   "id": "3d61129b",
   "metadata": {},
   "outputs": [
    {
     "name": "stdout",
     "output_type": "stream",
     "text": [
      "Accuracy: 0.8042039172865625\n",
      "\n",
      "Equal oppurtunity difference : -0.4414141414141414\n"
     ]
    },
    {
     "data": {
      "image/png": "[encoded data removed]",
      "text/plain": [
       "<Figure size 432x288 with 2 Axes>"
      ]
     },
     "metadata": {
      "needs_background": "light"
     },
     "output_type": "display_data"
    }
   ],
   "source": [
    "## best accurate model (evaluation on test set)\n",
    "test_data_eval(0.002)"
   ]
  },
  {
   "cell_type": "markdown",
   "id": "3d399a75",
   "metadata": {},
   "source": [
    "### Model 2 - Best Fairness"
   ]
  },
  {
   "cell_type": "code",
   "execution_count": 26,
   "id": "37bcd6dc",
   "metadata": {},
   "outputs": [
    {
     "name": "stdout",
     "output_type": "stream",
     "text": [
      "Accuracy: 0.8024295366136628\n",
      "\n",
      "Equal oppurtunity difference : -0.3635172866880184\n"
     ]
    },
    {
     "data": {
      "image/png": "[encoded data removed]",
      "text/plain": [
       "<Figure size 432x288 with 2 Axes>"
      ]
     },
     "metadata": {
      "needs_background": "light"
     },
     "output_type": "display_data"
    }
   ],
   "source": [
    "## best fair model (evaluation on test dataset)\n",
    "test_data_eval(0.00034)"
   ]
  },
  {
   "cell_type": "markdown",
   "id": "e70efdca",
   "metadata": {},
   "source": [
    "## Task 2 (REWEIGHING)"
   ]
  },
  {
   "cell_type": "code",
   "execution_count": 27,
   "id": "4d10c449",
   "metadata": {},
   "outputs": [],
   "source": [
    "## function implementing re-weighing\n",
    "\n",
    "def reweigh_task(C=1):\n",
    "        \n",
    "    X_train_val = train.features\n",
    "    y_train_val = train.labels.ravel()\n",
    "    accuracy_val=[]\n",
    "    tpr_val=[]\n",
    "    ### splitting training data into 5-fold using KFold split from scikit-learn\n",
    "    for k, (train_k, val_k) in enumerate(KFold(5).split(X_train_val)):\n",
    "     ### using subset method from aif360 dataset\n",
    "        x_train, x_val = train.subset(train_k), train.subset(val_k)\n",
    "     ### scaling the features\n",
    "        x_val_scaled= scale_orig.transform(x_val.features)\n",
    "        y_val = x_val.labels.ravel()\n",
    "        ### Mitigate the bias transforming the original dataset via reweighing.\n",
    "        RW = Reweighing(unprivileged_groups=unprivileged_groups,\n",
    "                privileged_groups=privileged_groups)\n",
    "        ### obtain a set of weights for the training set, to use in scikit-learn.\n",
    "        train_rw = RW.fit_transform(train)\n",
    "        ### initialize LogisticRegression and fitting model\n",
    "        learner_val = LogisticRegression(C=C,solver='liblinear', random_state=1) \n",
    "        learner_val.fit(X_train_val, y_train_val,sample_weight=train_rw.instance_weights)\n",
    "        predictions= learner_val.predict(x_val_scaled)\n",
    "\n",
    "        test_pred_k = x_val.copy()\n",
    "        test_pred_k.labels = predictions\n",
    "        accuracy= sum(predictions== y_val) /len(y_val)\n",
    "        accuracy_val.append(accuracy)\n",
    "        ### finding equal oppurtunity metric\n",
    "        metric = ClassificationMetric(x_val, test_pred_k, unprivileged_groups=unprivileged_groups, privileged_groups=privileged_groups)\n",
    "        metric_arrs=(metric.equal_opportunity_difference())\n",
    "        tpr_val.append(metric_arrs)\n",
    "        #print(\"Average Equal oppurtunity difference in Fold {}: {} \".format((k+1),np.mean(tpr_val)))\n",
    "        \n",
    "    return np.mean(accuracy_val),np.mean(tpr_val)"
   ]
  },
  {
   "cell_type": "code",
   "execution_count": 28,
   "id": "5ee7dd3b",
   "metadata": {},
   "outputs": [
    {
     "data": {
      "text/plain": [
       "(0.7291527489034233, -0.01760728152021753)"
      ]
     },
     "execution_count": 28,
     "metadata": {},
     "output_type": "execute_result"
    }
   ],
   "source": [
    "reweigh_task()"
   ]
  },
  {
   "cell_type": "markdown",
   "id": "50d42b1e",
   "metadata": {},
   "source": [
    "## Tuning C value for best Accuracy after Re-weighing"
   ]
  },
  {
   "cell_type": "code",
   "execution_count": 29,
   "id": "d0157652",
   "metadata": {},
   "outputs": [
    {
     "data": {
      "text/plain": [
       "Text(0.5, 0, 'C value')"
      ]
     },
     "execution_count": 29,
     "metadata": {},
     "output_type": "execute_result"
    },
    {
     "data": {
      "image/png": "[encoded data removed]",
      "text/plain": [
       "<Figure size 432x288 with 1 Axes>"
      ]
     },
     "metadata": {
      "needs_background": "light"
     },
     "output_type": "display_data"
    }
   ],
   "source": [
    "## Plotting Accuracy & C-value after re-weighing\n",
    "avg_accuracy=[]\n",
    "r_ange=np.arange(0.0001, 0.01, 0.001)\n",
    "\n",
    "for i in r_ange:\n",
    "    x,_=reweigh_task(i)\n",
    "    avg_accuracy.append(x)\n",
    "    \n",
    "plt.plot(r_ange,avg_accuracy)\n",
    "plt.ylabel (\"Average 5-Fold Accuracy after re-weighing\")\n",
    "plt.xlabel(\"C value\")\n",
    "\n",
    "#plt.legend()"
   ]
  },
  {
   "cell_type": "markdown",
   "id": "04d0c7b8",
   "metadata": {},
   "source": [
    "### Model 3 - BEST ACCURACY"
   ]
  },
  {
   "cell_type": "code",
   "execution_count": 30,
   "id": "c49fb346",
   "metadata": {},
   "outputs": [
    {
     "data": {
      "text/plain": [
       "(0.757787656696357, 0.07386288639024527)"
      ]
     },
     "execution_count": 30,
     "metadata": {},
     "output_type": "execute_result"
    }
   ],
   "source": [
    "## best accurate model in 5-folds after re-weighning\n",
    "reweigh_task(0.002)"
   ]
  },
  {
   "cell_type": "markdown",
   "id": "34ae8430",
   "metadata": {},
   "source": [
    "## Tuning C value for best Fairness Metric after Re-weighing"
   ]
  },
  {
   "cell_type": "code",
   "execution_count": 31,
   "id": "771d120d",
   "metadata": {},
   "outputs": [
    {
     "data": {
      "text/plain": [
       "Text(0.5, 0, 'C value')"
      ]
     },
     "execution_count": 31,
     "metadata": {},
     "output_type": "execute_result"
    },
    {
     "data": {
      "image/png": "[encoded data removed]",
      "text/plain": [
       "<Figure size 432x288 with 1 Axes>"
      ]
     },
     "metadata": {
      "needs_background": "light"
     },
     "output_type": "display_data"
    }
   ],
   "source": [
    "## Plotting Fairness metric & C-value after re-weighning\n",
    "tpr_diff=[]\n",
    "r_ange=np.arange(0.0001, 0.015, 0.001)\n",
    "\n",
    "for i in r_ange:\n",
    "    _,y=reweigh_task(i)\n",
    "    tpr_diff.append(y)\n",
    "      \n",
    "plt.plot(r_ange,tpr_diff)\n",
    "plt.ylabel (\"Equality of Oppurtunity after reweighing\")\n",
    "plt.xlabel(\"C value\")\n",
    "\n",
    "#plt.legend()"
   ]
  },
  {
   "cell_type": "markdown",
   "id": "64429847",
   "metadata": {},
   "source": [
    "### Model 4 - BEST Fairness Metric"
   ]
  },
  {
   "cell_type": "code",
   "execution_count": 33,
   "id": "5aa70a58",
   "metadata": {},
   "outputs": [
    {
     "data": {
      "text/plain": [
       "(0.7352073304490564, -0.020488426473101073)"
      ]
     },
     "execution_count": 33,
     "metadata": {},
     "output_type": "execute_result"
    }
   ],
   "source": [
    "## best fairness model in 5-folds after re-weighning\n",
    "reweigh_task(0.01)"
   ]
  },
  {
   "cell_type": "markdown",
   "id": "25b6e02b",
   "metadata": {},
   "source": [
    "## Final Evaluation on Test data"
   ]
  },
  {
   "cell_type": "markdown",
   "id": "ebb2981c",
   "metadata": {},
   "source": [
    "### Model 3 - Best Accuracy"
   ]
  },
  {
   "cell_type": "code",
   "execution_count": 34,
   "id": "3baa81b9",
   "metadata": {},
   "outputs": [],
   "source": [
    "def test_data_eval_reweigh(C=1):\n",
    "    \n",
    "    # use best accurate model above to predict Test data\n",
    "    ## Mitigating bias by transforming the original dataset via reweighing.\n",
    "\n",
    "    \n",
    "    RW = Reweighing(unprivileged_groups=unprivileged_groups,\n",
    "                    privileged_groups=privileged_groups)\n",
    "    ### obtain a set of weights for the training set, to use in scikit-learn.\n",
    "    train_rw = RW.fit_transform(train)\n",
    "\n",
    "    learner_acc = LogisticRegression(C=C,solver='liblinear', random_state=1)\n",
    "    learner_acc.fit(X_train,y_train,sample_weight=train_rw.instance_weights)\n",
    "    y_pred = learner_acc.predict(X_test)\n",
    "    print(\"Accuracy\", sum(y_pred==y_test)/len(y_test))\n",
    "\n",
    "    # confusion matrix\n",
    "    cnf_matrix = metrics.confusion_matrix(y_test, y_pred)\n",
    "    cnf_matrix\n",
    "\n",
    "    class_names=[0,1] # name  of classes\n",
    "    fig, ax = plt.subplots()\n",
    "    tick_marks = np.arange(len(class_names))\n",
    "    plt.xticks(tick_marks, class_names)\n",
    "    plt.yticks(tick_marks, class_names)\n",
    "    # create heatmap\n",
    "    sns.heatmap(pd.DataFrame(cnf_matrix), annot=True, cmap=\"YlGnBu\" ,fmt='g')\n",
    "    ax.xaxis.set_label_position(\"top\")\n",
    "    plt.tight_layout()\n",
    "    plt.title('Confusion matrix', y=1.1)\n",
    "    plt.ylabel('Actual label')\n",
    "    plt.xlabel('Predicted label')\n",
    "\n",
    "    ## fairness metric calculation\n",
    "    test_pred = test.copy()\n",
    "    y_pred.resize((len(y_pred),1))\n",
    "    test_pred.labels = y_pred\n",
    "\n",
    "    metric = ClassificationMetric(test, test_pred, unprivileged_groups=unprivileged_groups, privileged_groups=privileged_groups)\n",
    "    metric_arrs=(metric.equal_opportunity_difference())\n",
    "    #print(\"Accuracy:\",metrics.accuracy_score(y_test, y_pred))\n",
    "    print(\"\\nEqual oppurtunity difference :\",metric_arrs)\n"
   ]
  },
  {
   "cell_type": "code",
   "execution_count": 35,
   "id": "0e1d7d28",
   "metadata": {},
   "outputs": [
    {
     "name": "stdout",
     "output_type": "stream",
     "text": [
      "Accuracy 0.7905548351873336\n",
      "\n",
      "Equal oppurtunity difference : 0.03513180586351322\n"
     ]
    },
    {
     "data": {
      "image/png": "[encoded data removed]",
      "text/plain": [
       "<Figure size 432x288 with 2 Axes>"
      ]
     },
     "metadata": {
      "needs_background": "light"
     },
     "output_type": "display_data"
    }
   ],
   "source": [
    "## best accurate model after re-weighning (evaluation on test dataset)\n",
    "test_data_eval_reweigh(0.004)"
   ]
  },
  {
   "cell_type": "markdown",
   "id": "a87a2050",
   "metadata": {},
   "source": [
    "### Model 4 - Best Fairness"
   ]
  },
  {
   "cell_type": "code",
   "execution_count": 37,
   "id": "155efd97",
   "metadata": {},
   "outputs": [
    {
     "name": "stdout",
     "output_type": "stream",
     "text": [
      "Accuracy 0.7905548351873336\n",
      "\n",
      "Equal oppurtunity difference : 0.03513180586351322\n"
     ]
    },
    {
     "data": {
      "image/png": "[encoded data removed]",
      "text/plain": [
       "<Figure size 432x288 with 2 Axes>"
      ]
     },
     "metadata": {
      "needs_background": "light"
     },
     "output_type": "display_data"
    }
   ],
   "source": [
    "## best fairness model after re-weighning (evaluation on test dataset)\n",
    "test_data_eval_reweigh(0.01)"
   ]
  },
  {
   "cell_type": "markdown",
   "id": "7bf39ed2",
   "metadata": {},
   "source": [
    "# Additional Task"
   ]
  },
  {
   "cell_type": "markdown",
   "id": "b062749c",
   "metadata": {},
   "source": [
    "## Random Forest Classifier Model"
   ]
  },
  {
   "cell_type": "markdown",
   "id": "e664731e",
   "metadata": {},
   "source": [
    "### Plotting Accuracy & Fairness Metric based on max-depth"
   ]
  },
  {
   "cell_type": "code",
   "execution_count": 114,
   "id": "67796955",
   "metadata": {},
   "outputs": [
    {
     "data": {
      "text/plain": [
       "Text(0.5, 0, 'Max depth')"
      ]
     },
     "execution_count": 114,
     "metadata": {},
     "output_type": "execute_result"
    },
    {
     "data": {
      "image/png": "[encoded data removed]",
      "text/plain": [
       "<Figure size 432x288 with 1 Axes>"
      ]
     },
     "metadata": {
      "needs_background": "light"
     },
     "output_type": "display_data"
    }
   ],
   "source": [
    "# creating a RF classifier\n",
    "accuracy_rf=[]\n",
    "r_ange=np.arange(1, 20, 1)\n",
    "for i in r_ange:\n",
    "    learner = RandomForestClassifier(max_depth = i)\n",
    "    # Training the model on the training dataset\n",
    "    # fit function is used to train the model using the training sets as parameters\n",
    "    learner.fit(X_train, y_train)\n",
    "    # performing predictions on the test dataset\n",
    "    predictions= learner.predict(X_test)\n",
    "        \n",
    "    accuracy=sum(predictions==y_test)/len(y_test)   \n",
    "    accuracy_rf.append(accuracy)\n",
    "    \n",
    "plt.plot(r_ange,accuracy_rf)\n",
    "plt.ylabel (\"Accuracy \")\n",
    "plt.xlabel(\"Max depth\")\n"
   ]
  },
  {
   "cell_type": "code",
   "execution_count": 116,
   "id": "91c2c184",
   "metadata": {},
   "outputs": [
    {
     "data": {
      "text/plain": [
       "Text(0.5, 0, 'Hyperparameter - Max depth')"
      ]
     },
     "execution_count": 116,
     "metadata": {},
     "output_type": "execute_result"
    },
    {
     "data": {
      "image/png": "[encoded data removed]",
      "text/plain": [
       "<Figure size 432x288 with 1 Axes>"
      ]
     },
     "metadata": {
      "needs_background": "light"
     },
     "output_type": "display_data"
    }
   ],
   "source": [
    "# creating a RF classifier\n",
    "tpr=[]\n",
    "\n",
    "r_ange=np.arange(0.001, 10, 1)\n",
    "for i in r_ange:\n",
    "    learner = RandomForestClassifier(max_depth = i)\n",
    "    learner.fit(X_train, y_train)\n",
    "    predictions= learner.predict(X_test)\n",
    "    \n",
    "    test_pred = test.copy()\n",
    "    test_pred.labels = predictions\n",
    "    \n",
    "    ### finding equal oppurtunity metric \n",
    "    metric = ClassificationMetric(test, test_pred, unprivileged_groups=unprivileged_groups, privileged_groups=privileged_groups)\n",
    "    metric_arrs=(metric.equal_opportunity_difference())\n",
    "    #print(\"Equal oppurtunity difference in Fold: {} \".format(k+1),metric_arrs)\n",
    "    tpr.append(metric_arrs)\n",
    "    \n",
    "plt.plot(r_ange,tpr)\n",
    "plt.ylabel (\"Equality of Oppurtunity \")\n",
    "plt.xlabel(\"Hyperparameter - Max depth\")"
   ]
  },
  {
   "cell_type": "markdown",
   "id": "4faf0719",
   "metadata": {},
   "source": [
    "## Model 1 : Best Accurate "
   ]
  },
  {
   "cell_type": "code",
   "execution_count": 40,
   "id": "3c894592",
   "metadata": {},
   "outputs": [
    {
     "name": "stdout",
     "output_type": "stream",
     "text": [
      "Accuracy 0.7951955231010714\n",
      "Equal oppurtunity difference  -0.27104377104377103\n"
     ]
    }
   ],
   "source": [
    "# creating a RF classifier\n",
    "learner = RandomForestClassifier(max_depth =5)\n",
    "learner.fit(X_train, y_train)\n",
    "predictions= learner.predict(X_test)\n",
    "\n",
    "test_pred = test.copy()\n",
    "test_pred.labels = predictions\n",
    "    \n",
    "### finding equal oppurtunity metric \n",
    "metric = ClassificationMetric(test, test_pred, unprivileged_groups=unprivileged_groups, privileged_groups=privileged_groups)\n",
    "metric_arrs=(metric.equal_opportunity_difference())\n",
    "\n",
    "        \n",
    "print(\"Accuracy\", sum(predictions==y_test)/len(y_test))\n",
    "print(\"Equal oppurtunity difference \",metric_arrs)"
   ]
  },
  {
   "cell_type": "markdown",
   "id": "074709ea",
   "metadata": {},
   "source": [
    "## Model 2 : Best Fairness Metric"
   ]
  },
  {
   "cell_type": "code",
   "execution_count": 41,
   "id": "770c8746",
   "metadata": {},
   "outputs": [
    {
     "name": "stdout",
     "output_type": "stream",
     "text": [
      "Accuracy 0.763734388862349\n",
      "Equal oppurtunity difference  0.0\n"
     ]
    }
   ],
   "source": [
    "# creating a RF classifier\n",
    "learner = RandomForestClassifier(max_depth = 1)\n",
    "learner.fit(X_train, y_train)\n",
    "predictions= learner.predict(X_test)\n",
    "\n",
    "test_pred = test.copy()\n",
    "test_pred.labels = predictions\n",
    "    \n",
    "### finding equal oppurtunity metric \n",
    "metric = ClassificationMetric(test, test_pred, unprivileged_groups=unprivileged_groups, privileged_groups=privileged_groups)\n",
    "metric_arrs=(metric.equal_opportunity_difference())\n",
    "\n",
    "        \n",
    "print(\"Accuracy\", sum(predictions==y_test)/len(y_test))\n",
    "print(\"Equal oppurtunity difference \",metric_arrs)\n"
   ]
  },
  {
   "cell_type": "markdown",
   "id": "25cafea2",
   "metadata": {},
   "source": [
    "# 2nd Dataset, german"
   ]
  },
  {
   "cell_type": "code",
   "execution_count": 43,
   "id": "2bb3c0d6",
   "metadata": {},
   "outputs": [
    {
     "name": "stdout",
     "output_type": "stream",
     "text": [
      "/opt/anaconda3/lib/python3.9/site-packages/aif360/data/raw/german\n"
     ]
    }
   ],
   "source": [
    "cd /opt/anaconda3/lib/python3.9/site-packages/aif360/data/raw/german"
   ]
  },
  {
   "cell_type": "code",
   "execution_count": 44,
   "id": "9ea42134",
   "metadata": {},
   "outputs": [
    {
     "name": "stdout",
     "output_type": "stream",
     "text": [
      "100% [............................................................] 4679 / 4679"
     ]
    }
   ],
   "source": [
    "import wget\n",
    "\n",
    "site_url1 = 'https://archive.ics.uci.edu/ml/machine-learning-databases/statlog/german/german.data'\n",
    "site_url2 = 'https://archive.ics.uci.edu/ml/machine-learning-databases/statlog/german/german.doc'\n",
    "file_name1 = wget.download(site_url1)\n",
    "file_name2 = wget.download(site_url2)"
   ]
  },
  {
   "cell_type": "markdown",
   "id": "09558e22",
   "metadata": {},
   "source": [
    "### DATA PREPARATION (German Dataset)"
   ]
  },
  {
   "cell_type": "code",
   "execution_count": 117,
   "id": "bb9cf876",
   "metadata": {},
   "outputs": [
    {
     "name": "stdout",
     "output_type": "stream",
     "text": [
      "training data size (700, 58)\n",
      "dataset feature names ['month', 'credit_amount', 'investment_as_income_percentage', 'residence_since', 'age', 'number_of_credits', 'people_liable_for', 'sex', 'status=A11', 'status=A12', 'status=A13', 'status=A14', 'credit_history=A30', 'credit_history=A31', 'credit_history=A32', 'credit_history=A33', 'credit_history=A34', 'purpose=A40', 'purpose=A41', 'purpose=A410', 'purpose=A42', 'purpose=A43', 'purpose=A44', 'purpose=A45', 'purpose=A46', 'purpose=A48', 'purpose=A49', 'savings=A61', 'savings=A62', 'savings=A63', 'savings=A64', 'savings=A65', 'employment=A71', 'employment=A72', 'employment=A73', 'employment=A74', 'employment=A75', 'other_debtors=A101', 'other_debtors=A102', 'other_debtors=A103', 'property=A121', 'property=A122', 'property=A123', 'property=A124', 'installment_plans=A141', 'installment_plans=A142', 'installment_plans=A143', 'housing=A151', 'housing=A152', 'housing=A153', 'skill_level=A171', 'skill_level=A172', 'skill_level=A173', 'skill_level=A174', 'telephone=A191', 'telephone=A192', 'foreign_worker=A201', 'foreign_worker=A202']\n"
     ]
    }
   ],
   "source": [
    "## define privileged and non-privileged groups\n",
    "privileged_groups = [{'sex': 1}]\n",
    "unprivileged_groups = [{'sex': 0}]\n",
    "dataset_orig = GermanDataset(protected_attribute_names=['sex'])\n",
    "\n",
    "## split between training and test set.\n",
    "train, test = dataset_orig.split([0.7], shuffle=True)\n",
    "print(\"training data size\", train.features.shape)\n",
    "print(\"dataset feature names\", train.feature_names)\n",
    "\n",
    "#Normalize the dataset, both train and test. This should always be done in any machine learning pipeline!\n",
    "scale_orig = StandardScaler()\n",
    "X_train = scale_orig.fit_transform(train.features)\n",
    "y_train = train.labels.ravel()\n",
    "\n",
    "X_test = scale_orig.transform(test.features) \n",
    "y_test = test.labels.ravel()\n"
   ]
  },
  {
   "cell_type": "code",
   "execution_count": 46,
   "id": "80a2ef0e",
   "metadata": {},
   "outputs": [
    {
     "data": {
      "text/html": [
       "<div>\n",
       "<style scoped>\n",
       "    .dataframe tbody tr th:only-of-type {\n",
       "        vertical-align: middle;\n",
       "    }\n",
       "\n",
       "    .dataframe tbody tr th {\n",
       "        vertical-align: top;\n",
       "    }\n",
       "\n",
       "    .dataframe thead th {\n",
       "        text-align: right;\n",
       "    }\n",
       "</style>\n",
       "<table border=\"1\" class=\"dataframe\">\n",
       "  <thead>\n",
       "    <tr style=\"text-align: right;\">\n",
       "      <th></th>\n",
       "      <th>month</th>\n",
       "      <th>credit_amount</th>\n",
       "      <th>investment_as_income_percentage</th>\n",
       "      <th>residence_since</th>\n",
       "      <th>age</th>\n",
       "      <th>number_of_credits</th>\n",
       "      <th>people_liable_for</th>\n",
       "      <th>sex</th>\n",
       "      <th>status=A11</th>\n",
       "      <th>status=A12</th>\n",
       "      <th>...</th>\n",
       "      <th>housing=A152</th>\n",
       "      <th>housing=A153</th>\n",
       "      <th>skill_level=A171</th>\n",
       "      <th>skill_level=A172</th>\n",
       "      <th>skill_level=A173</th>\n",
       "      <th>skill_level=A174</th>\n",
       "      <th>telephone=A191</th>\n",
       "      <th>telephone=A192</th>\n",
       "      <th>foreign_worker=A201</th>\n",
       "      <th>foreign_worker=A202</th>\n",
       "    </tr>\n",
       "  </thead>\n",
       "  <tbody>\n",
       "    <tr>\n",
       "      <th>0</th>\n",
       "      <td>6.0</td>\n",
       "      <td>1169.0</td>\n",
       "      <td>4.0</td>\n",
       "      <td>4.0</td>\n",
       "      <td>67.0</td>\n",
       "      <td>2.0</td>\n",
       "      <td>1.0</td>\n",
       "      <td>1.0</td>\n",
       "      <td>1.0</td>\n",
       "      <td>0.0</td>\n",
       "      <td>...</td>\n",
       "      <td>1.0</td>\n",
       "      <td>0.0</td>\n",
       "      <td>0.0</td>\n",
       "      <td>0.0</td>\n",
       "      <td>1.0</td>\n",
       "      <td>0.0</td>\n",
       "      <td>0.0</td>\n",
       "      <td>1.0</td>\n",
       "      <td>1.0</td>\n",
       "      <td>0.0</td>\n",
       "    </tr>\n",
       "    <tr>\n",
       "      <th>1</th>\n",
       "      <td>48.0</td>\n",
       "      <td>5951.0</td>\n",
       "      <td>2.0</td>\n",
       "      <td>2.0</td>\n",
       "      <td>22.0</td>\n",
       "      <td>1.0</td>\n",
       "      <td>1.0</td>\n",
       "      <td>0.0</td>\n",
       "      <td>0.0</td>\n",
       "      <td>1.0</td>\n",
       "      <td>...</td>\n",
       "      <td>1.0</td>\n",
       "      <td>0.0</td>\n",
       "      <td>0.0</td>\n",
       "      <td>0.0</td>\n",
       "      <td>1.0</td>\n",
       "      <td>0.0</td>\n",
       "      <td>1.0</td>\n",
       "      <td>0.0</td>\n",
       "      <td>1.0</td>\n",
       "      <td>0.0</td>\n",
       "    </tr>\n",
       "    <tr>\n",
       "      <th>2</th>\n",
       "      <td>12.0</td>\n",
       "      <td>2096.0</td>\n",
       "      <td>2.0</td>\n",
       "      <td>3.0</td>\n",
       "      <td>49.0</td>\n",
       "      <td>1.0</td>\n",
       "      <td>2.0</td>\n",
       "      <td>1.0</td>\n",
       "      <td>0.0</td>\n",
       "      <td>0.0</td>\n",
       "      <td>...</td>\n",
       "      <td>1.0</td>\n",
       "      <td>0.0</td>\n",
       "      <td>0.0</td>\n",
       "      <td>1.0</td>\n",
       "      <td>0.0</td>\n",
       "      <td>0.0</td>\n",
       "      <td>1.0</td>\n",
       "      <td>0.0</td>\n",
       "      <td>1.0</td>\n",
       "      <td>0.0</td>\n",
       "    </tr>\n",
       "    <tr>\n",
       "      <th>3</th>\n",
       "      <td>42.0</td>\n",
       "      <td>7882.0</td>\n",
       "      <td>2.0</td>\n",
       "      <td>4.0</td>\n",
       "      <td>45.0</td>\n",
       "      <td>1.0</td>\n",
       "      <td>2.0</td>\n",
       "      <td>1.0</td>\n",
       "      <td>1.0</td>\n",
       "      <td>0.0</td>\n",
       "      <td>...</td>\n",
       "      <td>0.0</td>\n",
       "      <td>1.0</td>\n",
       "      <td>0.0</td>\n",
       "      <td>0.0</td>\n",
       "      <td>1.0</td>\n",
       "      <td>0.0</td>\n",
       "      <td>1.0</td>\n",
       "      <td>0.0</td>\n",
       "      <td>1.0</td>\n",
       "      <td>0.0</td>\n",
       "    </tr>\n",
       "    <tr>\n",
       "      <th>4</th>\n",
       "      <td>24.0</td>\n",
       "      <td>4870.0</td>\n",
       "      <td>3.0</td>\n",
       "      <td>4.0</td>\n",
       "      <td>53.0</td>\n",
       "      <td>2.0</td>\n",
       "      <td>2.0</td>\n",
       "      <td>1.0</td>\n",
       "      <td>1.0</td>\n",
       "      <td>0.0</td>\n",
       "      <td>...</td>\n",
       "      <td>0.0</td>\n",
       "      <td>1.0</td>\n",
       "      <td>0.0</td>\n",
       "      <td>0.0</td>\n",
       "      <td>1.0</td>\n",
       "      <td>0.0</td>\n",
       "      <td>1.0</td>\n",
       "      <td>0.0</td>\n",
       "      <td>1.0</td>\n",
       "      <td>0.0</td>\n",
       "    </tr>\n",
       "    <tr>\n",
       "      <th>...</th>\n",
       "      <td>...</td>\n",
       "      <td>...</td>\n",
       "      <td>...</td>\n",
       "      <td>...</td>\n",
       "      <td>...</td>\n",
       "      <td>...</td>\n",
       "      <td>...</td>\n",
       "      <td>...</td>\n",
       "      <td>...</td>\n",
       "      <td>...</td>\n",
       "      <td>...</td>\n",
       "      <td>...</td>\n",
       "      <td>...</td>\n",
       "      <td>...</td>\n",
       "      <td>...</td>\n",
       "      <td>...</td>\n",
       "      <td>...</td>\n",
       "      <td>...</td>\n",
       "      <td>...</td>\n",
       "      <td>...</td>\n",
       "      <td>...</td>\n",
       "    </tr>\n",
       "    <tr>\n",
       "      <th>995</th>\n",
       "      <td>12.0</td>\n",
       "      <td>1736.0</td>\n",
       "      <td>3.0</td>\n",
       "      <td>4.0</td>\n",
       "      <td>31.0</td>\n",
       "      <td>1.0</td>\n",
       "      <td>1.0</td>\n",
       "      <td>0.0</td>\n",
       "      <td>0.0</td>\n",
       "      <td>0.0</td>\n",
       "      <td>...</td>\n",
       "      <td>1.0</td>\n",
       "      <td>0.0</td>\n",
       "      <td>0.0</td>\n",
       "      <td>1.0</td>\n",
       "      <td>0.0</td>\n",
       "      <td>0.0</td>\n",
       "      <td>1.0</td>\n",
       "      <td>0.0</td>\n",
       "      <td>1.0</td>\n",
       "      <td>0.0</td>\n",
       "    </tr>\n",
       "    <tr>\n",
       "      <th>996</th>\n",
       "      <td>30.0</td>\n",
       "      <td>3857.0</td>\n",
       "      <td>4.0</td>\n",
       "      <td>4.0</td>\n",
       "      <td>40.0</td>\n",
       "      <td>1.0</td>\n",
       "      <td>1.0</td>\n",
       "      <td>1.0</td>\n",
       "      <td>1.0</td>\n",
       "      <td>0.0</td>\n",
       "      <td>...</td>\n",
       "      <td>1.0</td>\n",
       "      <td>0.0</td>\n",
       "      <td>0.0</td>\n",
       "      <td>0.0</td>\n",
       "      <td>0.0</td>\n",
       "      <td>1.0</td>\n",
       "      <td>0.0</td>\n",
       "      <td>1.0</td>\n",
       "      <td>1.0</td>\n",
       "      <td>0.0</td>\n",
       "    </tr>\n",
       "    <tr>\n",
       "      <th>997</th>\n",
       "      <td>12.0</td>\n",
       "      <td>804.0</td>\n",
       "      <td>4.0</td>\n",
       "      <td>4.0</td>\n",
       "      <td>38.0</td>\n",
       "      <td>1.0</td>\n",
       "      <td>1.0</td>\n",
       "      <td>1.0</td>\n",
       "      <td>0.0</td>\n",
       "      <td>0.0</td>\n",
       "      <td>...</td>\n",
       "      <td>1.0</td>\n",
       "      <td>0.0</td>\n",
       "      <td>0.0</td>\n",
       "      <td>0.0</td>\n",
       "      <td>1.0</td>\n",
       "      <td>0.0</td>\n",
       "      <td>1.0</td>\n",
       "      <td>0.0</td>\n",
       "      <td>1.0</td>\n",
       "      <td>0.0</td>\n",
       "    </tr>\n",
       "    <tr>\n",
       "      <th>998</th>\n",
       "      <td>45.0</td>\n",
       "      <td>1845.0</td>\n",
       "      <td>4.0</td>\n",
       "      <td>4.0</td>\n",
       "      <td>23.0</td>\n",
       "      <td>1.0</td>\n",
       "      <td>1.0</td>\n",
       "      <td>1.0</td>\n",
       "      <td>1.0</td>\n",
       "      <td>0.0</td>\n",
       "      <td>...</td>\n",
       "      <td>0.0</td>\n",
       "      <td>1.0</td>\n",
       "      <td>0.0</td>\n",
       "      <td>0.0</td>\n",
       "      <td>1.0</td>\n",
       "      <td>0.0</td>\n",
       "      <td>0.0</td>\n",
       "      <td>1.0</td>\n",
       "      <td>1.0</td>\n",
       "      <td>0.0</td>\n",
       "    </tr>\n",
       "    <tr>\n",
       "      <th>999</th>\n",
       "      <td>45.0</td>\n",
       "      <td>4576.0</td>\n",
       "      <td>3.0</td>\n",
       "      <td>4.0</td>\n",
       "      <td>27.0</td>\n",
       "      <td>1.0</td>\n",
       "      <td>1.0</td>\n",
       "      <td>1.0</td>\n",
       "      <td>0.0</td>\n",
       "      <td>1.0</td>\n",
       "      <td>...</td>\n",
       "      <td>1.0</td>\n",
       "      <td>0.0</td>\n",
       "      <td>0.0</td>\n",
       "      <td>0.0</td>\n",
       "      <td>1.0</td>\n",
       "      <td>0.0</td>\n",
       "      <td>1.0</td>\n",
       "      <td>0.0</td>\n",
       "      <td>1.0</td>\n",
       "      <td>0.0</td>\n",
       "    </tr>\n",
       "  </tbody>\n",
       "</table>\n",
       "<p>1000 rows × 58 columns</p>\n",
       "</div>"
      ],
      "text/plain": [
       "     month  credit_amount  investment_as_income_percentage  residence_since  \\\n",
       "0      6.0         1169.0                              4.0              4.0   \n",
       "1     48.0         5951.0                              2.0              2.0   \n",
       "2     12.0         2096.0                              2.0              3.0   \n",
       "3     42.0         7882.0                              2.0              4.0   \n",
       "4     24.0         4870.0                              3.0              4.0   \n",
       "..     ...            ...                              ...              ...   \n",
       "995   12.0         1736.0                              3.0              4.0   \n",
       "996   30.0         3857.0                              4.0              4.0   \n",
       "997   12.0          804.0                              4.0              4.0   \n",
       "998   45.0         1845.0                              4.0              4.0   \n",
       "999   45.0         4576.0                              3.0              4.0   \n",
       "\n",
       "      age  number_of_credits  people_liable_for  sex  status=A11  status=A12  \\\n",
       "0    67.0                2.0                1.0  1.0         1.0         0.0   \n",
       "1    22.0                1.0                1.0  0.0         0.0         1.0   \n",
       "2    49.0                1.0                2.0  1.0         0.0         0.0   \n",
       "3    45.0                1.0                2.0  1.0         1.0         0.0   \n",
       "4    53.0                2.0                2.0  1.0         1.0         0.0   \n",
       "..    ...                ...                ...  ...         ...         ...   \n",
       "995  31.0                1.0                1.0  0.0         0.0         0.0   \n",
       "996  40.0                1.0                1.0  1.0         1.0         0.0   \n",
       "997  38.0                1.0                1.0  1.0         0.0         0.0   \n",
       "998  23.0                1.0                1.0  1.0         1.0         0.0   \n",
       "999  27.0                1.0                1.0  1.0         0.0         1.0   \n",
       "\n",
       "     ...  housing=A152  housing=A153  skill_level=A171  skill_level=A172  \\\n",
       "0    ...           1.0           0.0               0.0               0.0   \n",
       "1    ...           1.0           0.0               0.0               0.0   \n",
       "2    ...           1.0           0.0               0.0               1.0   \n",
       "3    ...           0.0           1.0               0.0               0.0   \n",
       "4    ...           0.0           1.0               0.0               0.0   \n",
       "..   ...           ...           ...               ...               ...   \n",
       "995  ...           1.0           0.0               0.0               1.0   \n",
       "996  ...           1.0           0.0               0.0               0.0   \n",
       "997  ...           1.0           0.0               0.0               0.0   \n",
       "998  ...           0.0           1.0               0.0               0.0   \n",
       "999  ...           1.0           0.0               0.0               0.0   \n",
       "\n",
       "     skill_level=A173  skill_level=A174  telephone=A191  telephone=A192  \\\n",
       "0                 1.0               0.0             0.0             1.0   \n",
       "1                 1.0               0.0             1.0             0.0   \n",
       "2                 0.0               0.0             1.0             0.0   \n",
       "3                 1.0               0.0             1.0             0.0   \n",
       "4                 1.0               0.0             1.0             0.0   \n",
       "..                ...               ...             ...             ...   \n",
       "995               0.0               0.0             1.0             0.0   \n",
       "996               0.0               1.0             0.0             1.0   \n",
       "997               1.0               0.0             1.0             0.0   \n",
       "998               1.0               0.0             0.0             1.0   \n",
       "999               1.0               0.0             1.0             0.0   \n",
       "\n",
       "     foreign_worker=A201  foreign_worker=A202  \n",
       "0                    1.0                  0.0  \n",
       "1                    1.0                  0.0  \n",
       "2                    1.0                  0.0  \n",
       "3                    1.0                  0.0  \n",
       "4                    1.0                  0.0  \n",
       "..                   ...                  ...  \n",
       "995                  1.0                  0.0  \n",
       "996                  1.0                  0.0  \n",
       "997                  1.0                  0.0  \n",
       "998                  1.0                  0.0  \n",
       "999                  1.0                  0.0  \n",
       "\n",
       "[1000 rows x 58 columns]"
      ]
     },
     "execution_count": 46,
     "metadata": {},
     "output_type": "execute_result"
    }
   ],
   "source": [
    "df_german = pd.DataFrame(dataset_orig.features)\n",
    "df_german.columns=dataset_orig.feature_names\n",
    "df_german"
   ]
  },
  {
   "cell_type": "code",
   "execution_count": 47,
   "id": "2dd78566",
   "metadata": {},
   "outputs": [
    {
     "data": {
      "text/html": [
       "<div>\n",
       "<style scoped>\n",
       "    .dataframe tbody tr th:only-of-type {\n",
       "        vertical-align: middle;\n",
       "    }\n",
       "\n",
       "    .dataframe tbody tr th {\n",
       "        vertical-align: top;\n",
       "    }\n",
       "\n",
       "    .dataframe thead th {\n",
       "        text-align: right;\n",
       "    }\n",
       "</style>\n",
       "<table border=\"1\" class=\"dataframe\">\n",
       "  <thead>\n",
       "    <tr style=\"text-align: right;\">\n",
       "      <th></th>\n",
       "      <th>month</th>\n",
       "      <th>credit_amount</th>\n",
       "      <th>investment_as_income_percentage</th>\n",
       "      <th>residence_since</th>\n",
       "      <th>age</th>\n",
       "      <th>number_of_credits</th>\n",
       "      <th>people_liable_for</th>\n",
       "      <th>sex</th>\n",
       "      <th>status=A11</th>\n",
       "      <th>status=A12</th>\n",
       "      <th>...</th>\n",
       "      <th>housing=A152</th>\n",
       "      <th>housing=A153</th>\n",
       "      <th>skill_level=A171</th>\n",
       "      <th>skill_level=A172</th>\n",
       "      <th>skill_level=A173</th>\n",
       "      <th>skill_level=A174</th>\n",
       "      <th>telephone=A191</th>\n",
       "      <th>telephone=A192</th>\n",
       "      <th>foreign_worker=A201</th>\n",
       "      <th>foreign_worker=A202</th>\n",
       "    </tr>\n",
       "  </thead>\n",
       "  <tbody>\n",
       "    <tr>\n",
       "      <th>count</th>\n",
       "      <td>1000.000000</td>\n",
       "      <td>1000.000000</td>\n",
       "      <td>1000.000000</td>\n",
       "      <td>1000.000000</td>\n",
       "      <td>1000.000000</td>\n",
       "      <td>1000.000000</td>\n",
       "      <td>1000.000000</td>\n",
       "      <td>1000.000000</td>\n",
       "      <td>1000.000000</td>\n",
       "      <td>1000.000000</td>\n",
       "      <td>...</td>\n",
       "      <td>1000.000000</td>\n",
       "      <td>1000.000000</td>\n",
       "      <td>1000.000000</td>\n",
       "      <td>1000.0000</td>\n",
       "      <td>1000.000000</td>\n",
       "      <td>1000.000000</td>\n",
       "      <td>1000.000000</td>\n",
       "      <td>1000.000000</td>\n",
       "      <td>1000.000000</td>\n",
       "      <td>1000.000000</td>\n",
       "    </tr>\n",
       "    <tr>\n",
       "      <th>mean</th>\n",
       "      <td>20.903000</td>\n",
       "      <td>3271.258000</td>\n",
       "      <td>2.973000</td>\n",
       "      <td>2.845000</td>\n",
       "      <td>35.546000</td>\n",
       "      <td>1.407000</td>\n",
       "      <td>1.155000</td>\n",
       "      <td>0.690000</td>\n",
       "      <td>0.274000</td>\n",
       "      <td>0.269000</td>\n",
       "      <td>...</td>\n",
       "      <td>0.713000</td>\n",
       "      <td>0.108000</td>\n",
       "      <td>0.022000</td>\n",
       "      <td>0.2000</td>\n",
       "      <td>0.630000</td>\n",
       "      <td>0.148000</td>\n",
       "      <td>0.596000</td>\n",
       "      <td>0.404000</td>\n",
       "      <td>0.963000</td>\n",
       "      <td>0.037000</td>\n",
       "    </tr>\n",
       "    <tr>\n",
       "      <th>std</th>\n",
       "      <td>12.058814</td>\n",
       "      <td>2822.736876</td>\n",
       "      <td>1.118715</td>\n",
       "      <td>1.103718</td>\n",
       "      <td>11.375469</td>\n",
       "      <td>0.577654</td>\n",
       "      <td>0.362086</td>\n",
       "      <td>0.462725</td>\n",
       "      <td>0.446232</td>\n",
       "      <td>0.443662</td>\n",
       "      <td>...</td>\n",
       "      <td>0.452588</td>\n",
       "      <td>0.310536</td>\n",
       "      <td>0.146757</td>\n",
       "      <td>0.4002</td>\n",
       "      <td>0.483046</td>\n",
       "      <td>0.355278</td>\n",
       "      <td>0.490943</td>\n",
       "      <td>0.490943</td>\n",
       "      <td>0.188856</td>\n",
       "      <td>0.188856</td>\n",
       "    </tr>\n",
       "    <tr>\n",
       "      <th>min</th>\n",
       "      <td>4.000000</td>\n",
       "      <td>250.000000</td>\n",
       "      <td>1.000000</td>\n",
       "      <td>1.000000</td>\n",
       "      <td>19.000000</td>\n",
       "      <td>1.000000</td>\n",
       "      <td>1.000000</td>\n",
       "      <td>0.000000</td>\n",
       "      <td>0.000000</td>\n",
       "      <td>0.000000</td>\n",
       "      <td>...</td>\n",
       "      <td>0.000000</td>\n",
       "      <td>0.000000</td>\n",
       "      <td>0.000000</td>\n",
       "      <td>0.0000</td>\n",
       "      <td>0.000000</td>\n",
       "      <td>0.000000</td>\n",
       "      <td>0.000000</td>\n",
       "      <td>0.000000</td>\n",
       "      <td>0.000000</td>\n",
       "      <td>0.000000</td>\n",
       "    </tr>\n",
       "    <tr>\n",
       "      <th>25%</th>\n",
       "      <td>12.000000</td>\n",
       "      <td>1365.500000</td>\n",
       "      <td>2.000000</td>\n",
       "      <td>2.000000</td>\n",
       "      <td>27.000000</td>\n",
       "      <td>1.000000</td>\n",
       "      <td>1.000000</td>\n",
       "      <td>0.000000</td>\n",
       "      <td>0.000000</td>\n",
       "      <td>0.000000</td>\n",
       "      <td>...</td>\n",
       "      <td>0.000000</td>\n",
       "      <td>0.000000</td>\n",
       "      <td>0.000000</td>\n",
       "      <td>0.0000</td>\n",
       "      <td>0.000000</td>\n",
       "      <td>0.000000</td>\n",
       "      <td>0.000000</td>\n",
       "      <td>0.000000</td>\n",
       "      <td>1.000000</td>\n",
       "      <td>0.000000</td>\n",
       "    </tr>\n",
       "    <tr>\n",
       "      <th>50%</th>\n",
       "      <td>18.000000</td>\n",
       "      <td>2319.500000</td>\n",
       "      <td>3.000000</td>\n",
       "      <td>3.000000</td>\n",
       "      <td>33.000000</td>\n",
       "      <td>1.000000</td>\n",
       "      <td>1.000000</td>\n",
       "      <td>1.000000</td>\n",
       "      <td>0.000000</td>\n",
       "      <td>0.000000</td>\n",
       "      <td>...</td>\n",
       "      <td>1.000000</td>\n",
       "      <td>0.000000</td>\n",
       "      <td>0.000000</td>\n",
       "      <td>0.0000</td>\n",
       "      <td>1.000000</td>\n",
       "      <td>0.000000</td>\n",
       "      <td>1.000000</td>\n",
       "      <td>0.000000</td>\n",
       "      <td>1.000000</td>\n",
       "      <td>0.000000</td>\n",
       "    </tr>\n",
       "    <tr>\n",
       "      <th>75%</th>\n",
       "      <td>24.000000</td>\n",
       "      <td>3972.250000</td>\n",
       "      <td>4.000000</td>\n",
       "      <td>4.000000</td>\n",
       "      <td>42.000000</td>\n",
       "      <td>2.000000</td>\n",
       "      <td>1.000000</td>\n",
       "      <td>1.000000</td>\n",
       "      <td>1.000000</td>\n",
       "      <td>1.000000</td>\n",
       "      <td>...</td>\n",
       "      <td>1.000000</td>\n",
       "      <td>0.000000</td>\n",
       "      <td>0.000000</td>\n",
       "      <td>0.0000</td>\n",
       "      <td>1.000000</td>\n",
       "      <td>0.000000</td>\n",
       "      <td>1.000000</td>\n",
       "      <td>1.000000</td>\n",
       "      <td>1.000000</td>\n",
       "      <td>0.000000</td>\n",
       "    </tr>\n",
       "    <tr>\n",
       "      <th>max</th>\n",
       "      <td>72.000000</td>\n",
       "      <td>18424.000000</td>\n",
       "      <td>4.000000</td>\n",
       "      <td>4.000000</td>\n",
       "      <td>75.000000</td>\n",
       "      <td>4.000000</td>\n",
       "      <td>2.000000</td>\n",
       "      <td>1.000000</td>\n",
       "      <td>1.000000</td>\n",
       "      <td>1.000000</td>\n",
       "      <td>...</td>\n",
       "      <td>1.000000</td>\n",
       "      <td>1.000000</td>\n",
       "      <td>1.000000</td>\n",
       "      <td>1.0000</td>\n",
       "      <td>1.000000</td>\n",
       "      <td>1.000000</td>\n",
       "      <td>1.000000</td>\n",
       "      <td>1.000000</td>\n",
       "      <td>1.000000</td>\n",
       "      <td>1.000000</td>\n",
       "    </tr>\n",
       "  </tbody>\n",
       "</table>\n",
       "<p>8 rows × 58 columns</p>\n",
       "</div>"
      ],
      "text/plain": [
       "             month  credit_amount  investment_as_income_percentage  \\\n",
       "count  1000.000000    1000.000000                      1000.000000   \n",
       "mean     20.903000    3271.258000                         2.973000   \n",
       "std      12.058814    2822.736876                         1.118715   \n",
       "min       4.000000     250.000000                         1.000000   \n",
       "25%      12.000000    1365.500000                         2.000000   \n",
       "50%      18.000000    2319.500000                         3.000000   \n",
       "75%      24.000000    3972.250000                         4.000000   \n",
       "max      72.000000   18424.000000                         4.000000   \n",
       "\n",
       "       residence_since          age  number_of_credits  people_liable_for  \\\n",
       "count      1000.000000  1000.000000        1000.000000        1000.000000   \n",
       "mean          2.845000    35.546000           1.407000           1.155000   \n",
       "std           1.103718    11.375469           0.577654           0.362086   \n",
       "min           1.000000    19.000000           1.000000           1.000000   \n",
       "25%           2.000000    27.000000           1.000000           1.000000   \n",
       "50%           3.000000    33.000000           1.000000           1.000000   \n",
       "75%           4.000000    42.000000           2.000000           1.000000   \n",
       "max           4.000000    75.000000           4.000000           2.000000   \n",
       "\n",
       "               sex   status=A11   status=A12  ...  housing=A152  housing=A153  \\\n",
       "count  1000.000000  1000.000000  1000.000000  ...   1000.000000   1000.000000   \n",
       "mean      0.690000     0.274000     0.269000  ...      0.713000      0.108000   \n",
       "std       0.462725     0.446232     0.443662  ...      0.452588      0.310536   \n",
       "min       0.000000     0.000000     0.000000  ...      0.000000      0.000000   \n",
       "25%       0.000000     0.000000     0.000000  ...      0.000000      0.000000   \n",
       "50%       1.000000     0.000000     0.000000  ...      1.000000      0.000000   \n",
       "75%       1.000000     1.000000     1.000000  ...      1.000000      0.000000   \n",
       "max       1.000000     1.000000     1.000000  ...      1.000000      1.000000   \n",
       "\n",
       "       skill_level=A171  skill_level=A172  skill_level=A173  skill_level=A174  \\\n",
       "count       1000.000000         1000.0000       1000.000000       1000.000000   \n",
       "mean           0.022000            0.2000          0.630000          0.148000   \n",
       "std            0.146757            0.4002          0.483046          0.355278   \n",
       "min            0.000000            0.0000          0.000000          0.000000   \n",
       "25%            0.000000            0.0000          0.000000          0.000000   \n",
       "50%            0.000000            0.0000          1.000000          0.000000   \n",
       "75%            0.000000            0.0000          1.000000          0.000000   \n",
       "max            1.000000            1.0000          1.000000          1.000000   \n",
       "\n",
       "       telephone=A191  telephone=A192  foreign_worker=A201  \\\n",
       "count     1000.000000     1000.000000          1000.000000   \n",
       "mean         0.596000        0.404000             0.963000   \n",
       "std          0.490943        0.490943             0.188856   \n",
       "min          0.000000        0.000000             0.000000   \n",
       "25%          0.000000        0.000000             1.000000   \n",
       "50%          1.000000        0.000000             1.000000   \n",
       "75%          1.000000        1.000000             1.000000   \n",
       "max          1.000000        1.000000             1.000000   \n",
       "\n",
       "       foreign_worker=A202  \n",
       "count          1000.000000  \n",
       "mean              0.037000  \n",
       "std               0.188856  \n",
       "min               0.000000  \n",
       "25%               0.000000  \n",
       "50%               0.000000  \n",
       "75%               0.000000  \n",
       "max               1.000000  \n",
       "\n",
       "[8 rows x 58 columns]"
      ]
     },
     "execution_count": 47,
     "metadata": {},
     "output_type": "execute_result"
    }
   ],
   "source": [
    "df_german.describe()"
   ]
  },
  {
   "cell_type": "markdown",
   "id": "1a2ad48f",
   "metadata": {},
   "source": [
    "### Performing GridSearch"
   ]
  },
  {
   "cell_type": "code",
   "execution_count": 213,
   "id": "f223fec9",
   "metadata": {},
   "outputs": [
    {
     "name": "stdout",
     "output_type": "stream",
     "text": [
      "tuned hpyerparameters :(best parameters)  {'C': 0.015, 'penalty': 'l2'}\n",
      "best score : 0.7585714285714286\n"
     ]
    }
   ],
   "source": [
    "grid={\"C\": np.arange(0.01, 1, 0.005), \"penalty\":[\"l2\"]}# l1 lasso l2 ridge\n",
    "\n",
    "logreg_cv=GridSearchCV(LogisticRegression(),grid,n_jobs=-1)\n",
    "logreg_cv.fit(X_train,y_train)\n",
    "\n",
    "print(\"tuned hpyerparameters :(best parameters) \",logreg_cv.best_params_)\n",
    "print(\"best score :\",logreg_cv.best_score_)"
   ]
  },
  {
   "cell_type": "markdown",
   "id": "4cb84506",
   "metadata": {},
   "source": [
    "## Task 1 "
   ]
  },
  {
   "cell_type": "markdown",
   "id": "f224c917",
   "metadata": {},
   "source": [
    "### Visualizing Accuracy & C-Value"
   ]
  },
  {
   "cell_type": "code",
   "execution_count": 86,
   "id": "48747b94",
   "metadata": {},
   "outputs": [
    {
     "data": {
      "text/plain": [
       "Text(0.5, 0, 'C value')"
      ]
     },
     "execution_count": 86,
     "metadata": {},
     "output_type": "execute_result"
    },
    {
     "data": {
      "image/png": "[encoded data removed]",
      "text/plain": [
       "<Figure size 432x288 with 1 Axes>"
      ]
     },
     "metadata": {
      "needs_background": "light"
     },
     "output_type": "display_data"
    }
   ],
   "source": [
    "## Plotting Accuracy & C-value using matplot lib\n",
    "accuracy=[]\n",
    "r_ange=np.arange(0.7, 1, 0.01)\n",
    "\n",
    "for i in r_ange:\n",
    "    x,y=accuracy_fold(i)\n",
    "    accuracy.append(x) \n",
    "    \n",
    "plt.plot(r_ange,accuracy)\n",
    "plt.ylabel (\" Average Accuracy after 5-folds \")\n",
    "plt.xlabel(\"C value\")\n",
    "\n",
    "#plt.legend()"
   ]
  },
  {
   "cell_type": "markdown",
   "id": "9f3501fb",
   "metadata": {},
   "source": [
    "## Model 1 (BEST Accuracy)"
   ]
  },
  {
   "cell_type": "code",
   "execution_count": 52,
   "id": "fadf8246",
   "metadata": {},
   "outputs": [
    {
     "data": {
      "text/plain": [
       "(0.7142857142857142, -0.0615351536292648)"
      ]
     },
     "execution_count": 52,
     "metadata": {},
     "output_type": "execute_result"
    }
   ],
   "source": [
    "## best accuracy model on 5-fold\n",
    "accuracy_fold(0.85)"
   ]
  },
  {
   "cell_type": "markdown",
   "id": "def88660",
   "metadata": {},
   "source": [
    "### Visualizing C-value & Fariness Metric"
   ]
  },
  {
   "cell_type": "code",
   "execution_count": 87,
   "id": "3ccd34a1",
   "metadata": {},
   "outputs": [
    {
     "data": {
      "text/plain": [
       "Text(0.5, 0, 'C value')"
      ]
     },
     "execution_count": 87,
     "metadata": {},
     "output_type": "execute_result"
    },
    {
     "data": {
      "image/png": "[encoded data removed]",
      "text/plain": [
       "<Figure size 432x288 with 1 Axes>"
      ]
     },
     "metadata": {
      "needs_background": "light"
     },
     "output_type": "display_data"
    }
   ],
   "source": [
    "## Plotting Fairness metric & C-value using matplot lib\n",
    "tpr_kfold=[]\n",
    "r_ange=np.arange(0.3, 0.8, 0.01)\n",
    "\n",
    "for i in r_ange:\n",
    "    x,y=accuracy_fold(i)\n",
    "    tpr_kfold.append(y)\n",
    "    \n",
    "#tpr=r_ange\n",
    "plt.plot(r_ange,tpr_kfold)\n",
    "plt.ylabel (\"Equality of Opportunity\")\n",
    "plt.xlabel(\"C value\")"
   ]
  },
  {
   "cell_type": "markdown",
   "id": "2fb729cb",
   "metadata": {},
   "source": [
    "## Model 2 (BEST FAIRNESS)"
   ]
  },
  {
   "cell_type": "code",
   "execution_count": 80,
   "id": "f5ce4c7b",
   "metadata": {},
   "outputs": [
    {
     "data": {
      "text/plain": [
       "(0.7071428571428571, -0.054601008869033095)"
      ]
     },
     "execution_count": 80,
     "metadata": {},
     "output_type": "execute_result"
    }
   ],
   "source": [
    "## best fairness model among 5-folds\n",
    "accuracy_fold(0.7)"
   ]
  },
  {
   "cell_type": "markdown",
   "id": "8b1fe9a6",
   "metadata": {},
   "source": [
    "### Final Evaluation on Test data"
   ]
  },
  {
   "cell_type": "markdown",
   "id": "f0223293",
   "metadata": {},
   "source": [
    "## Model 1 (BEST Accuracy)"
   ]
  },
  {
   "cell_type": "code",
   "execution_count": 57,
   "id": "857a8b64",
   "metadata": {},
   "outputs": [
    {
     "name": "stdout",
     "output_type": "stream",
     "text": [
      "Accuracy: 0.7433333333333333\n",
      "\n",
      "Equal oppurtunity difference : -0.05043859649122806\n"
     ]
    },
    {
     "data": {
      "image/png": "[encoded data removed]",
      "text/plain": [
       "<Figure size 432x288 with 2 Axes>"
      ]
     },
     "metadata": {
      "needs_background": "light"
     },
     "output_type": "display_data"
    }
   ],
   "source": [
    "## best accurate model (evaluation on test set)\n",
    "test_data_eval(0.85)"
   ]
  },
  {
   "cell_type": "markdown",
   "id": "53cd1dcd",
   "metadata": {},
   "source": [
    "## Model 2 (BEST FAIRNESS)"
   ]
  },
  {
   "cell_type": "code",
   "execution_count": 81,
   "id": "b83ddafe",
   "metadata": {},
   "outputs": [
    {
     "name": "stdout",
     "output_type": "stream",
     "text": [
      "Accuracy: 0.74\n",
      "\n",
      "Equal oppurtunity difference : -0.04385964912280704\n"
     ]
    },
    {
     "data": {
      "image/png": "[encoded data removed]",
      "text/plain": [
       "<Figure size 432x288 with 2 Axes>"
      ]
     },
     "metadata": {
      "needs_background": "light"
     },
     "output_type": "display_data"
    }
   ],
   "source": [
    "## best fairness model (evaluation on test set)\n",
    "test_data_eval(0.7)"
   ]
  },
  {
   "cell_type": "markdown",
   "id": "0595e23c",
   "metadata": {},
   "source": [
    "# Re-weighting (TASK 2)"
   ]
  },
  {
   "cell_type": "markdown",
   "id": "257e8117",
   "metadata": {},
   "source": [
    "## Visualizing C-Value & Accuracy( Average 5-fold)"
   ]
  },
  {
   "cell_type": "code",
   "execution_count": 82,
   "id": "743f3720",
   "metadata": {},
   "outputs": [
    {
     "data": {
      "text/plain": [
       "Text(0.5, 0, 'C value')"
      ]
     },
     "execution_count": 82,
     "metadata": {},
     "output_type": "execute_result"
    },
    {
     "data": {
      "image/png": "[encoded data removed]",
      "text/plain": [
       "<Figure size 432x288 with 1 Axes>"
      ]
     },
     "metadata": {
      "needs_background": "light"
     },
     "output_type": "display_data"
    }
   ],
   "source": [
    "## Plotting Accuracy & C-value after re-weighing\n",
    "tpr_diff=[]\n",
    "avg_accuracy=[]\n",
    "r_ange=np.arange(0.1, 0.9, 0.01)\n",
    "\n",
    "for i in r_ange:\n",
    "    x,y=reweigh_task(i)\n",
    "    avg_accuracy.append(x)\n",
    "    \n",
    "plt.plot(r_ange,avg_accuracy)\n",
    "plt.ylabel (\"Average Accuracy after re-weighing\")\n",
    "plt.xlabel(\"C value\")\n",
    "\n",
    "#plt.legend()"
   ]
  },
  {
   "cell_type": "markdown",
   "id": "c6ccd002",
   "metadata": {},
   "source": [
    "### Model 3 (BEST ACCURACY)"
   ]
  },
  {
   "cell_type": "code",
   "execution_count": 88,
   "id": "ed9ec2af",
   "metadata": {},
   "outputs": [
    {
     "data": {
      "text/plain": [
       "(0.7185714285714285, 0.01117366380230993)"
      ]
     },
     "execution_count": 88,
     "metadata": {},
     "output_type": "execute_result"
    }
   ],
   "source": [
    "reweigh_task(0.26)"
   ]
  },
  {
   "cell_type": "markdown",
   "id": "8064f8af",
   "metadata": {},
   "source": [
    "## Visualizing C-Value & Fairness Metric ( Average 5-fold)\n"
   ]
  },
  {
   "cell_type": "code",
   "execution_count": 93,
   "id": "ffeb51d1",
   "metadata": {},
   "outputs": [
    {
     "data": {
      "text/plain": [
       "Text(0.5, 0, 'C value')"
      ]
     },
     "execution_count": 93,
     "metadata": {},
     "output_type": "execute_result"
    },
    {
     "data": {
      "image/png": "[encoded data removed]",
      "text/plain": [
       "<Figure size 432x288 with 1 Axes>"
      ]
     },
     "metadata": {
      "needs_background": "light"
     },
     "output_type": "display_data"
    }
   ],
   "source": [
    "## Plotting Accuracy & C-value after re-weighing\n",
    "tpr_diff=[]\n",
    "r_ange=np.arange(0.1, 0.2, 0.001)\n",
    "\n",
    "for i in r_ange:\n",
    "    x,y=reweigh_task(i)\n",
    "    tpr_diff.append(y)\n",
    "    \n",
    "plt.plot(r_ange,tpr_diff)\n",
    "plt.ylabel (\"TPR after reweighing\")\n",
    "plt.xlabel(\"C value\")\n",
    "\n",
    "#plt.legend()"
   ]
  },
  {
   "cell_type": "markdown",
   "id": "028ac596",
   "metadata": {},
   "source": [
    "## Model 4 ( BEST FAIRNESS)"
   ]
  },
  {
   "cell_type": "code",
   "execution_count": 94,
   "id": "5752d843",
   "metadata": {},
   "outputs": [
    {
     "data": {
      "text/plain": [
       "(0.7142857142857143, -0.008181557303048769)"
      ]
     },
     "execution_count": 94,
     "metadata": {},
     "output_type": "execute_result"
    }
   ],
   "source": [
    "reweigh_task(0.12)"
   ]
  },
  {
   "cell_type": "markdown",
   "id": "7bdd1d31",
   "metadata": {},
   "source": [
    "## Final Evaluation on Test data"
   ]
  },
  {
   "cell_type": "markdown",
   "id": "8f84a9c6",
   "metadata": {},
   "source": [
    "### Model 3 - Best Accuracy"
   ]
  },
  {
   "cell_type": "code",
   "execution_count": 95,
   "id": "5d719ca7",
   "metadata": {},
   "outputs": [
    {
     "name": "stdout",
     "output_type": "stream",
     "text": [
      "Accuracy 0.7233333333333334\n",
      "\n",
      "Equal oppurtunity difference : -0.010964912280701733\n"
     ]
    },
    {
     "data": {
      "image/png": "[encoded data removed]",
      "text/plain": [
       "<Figure size 432x288 with 2 Axes>"
      ]
     },
     "metadata": {
      "needs_background": "light"
     },
     "output_type": "display_data"
    }
   ],
   "source": [
    "## best accurate model (evaluation on test set)\n",
    "test_data_eval_reweigh(0.26)"
   ]
  },
  {
   "cell_type": "markdown",
   "id": "515bcce4",
   "metadata": {},
   "source": [
    "### Model 4 - Best Fairness"
   ]
  },
  {
   "cell_type": "code",
   "execution_count": 96,
   "id": "f018a116",
   "metadata": {},
   "outputs": [
    {
     "name": "stdout",
     "output_type": "stream",
     "text": [
      "Accuracy 0.72\n",
      "\n",
      "Equal oppurtunity difference : -0.010964912280701733\n"
     ]
    },
    {
     "data": {
      "image/png": "[encoded data removed]",
      "text/plain": [
       "<Figure size 432x288 with 2 Axes>"
      ]
     },
     "metadata": {
      "needs_background": "light"
     },
     "output_type": "display_data"
    }
   ],
   "source": [
    "## best fairness model (evaluation on test set)\n",
    "test_data_eval_reweigh(0.12)"
   ]
  },
  {
   "cell_type": "markdown",
   "id": "52f875ed",
   "metadata": {},
   "source": [
    "# Additional Task"
   ]
  },
  {
   "cell_type": "markdown",
   "id": "d76434c9",
   "metadata": {},
   "source": [
    "## Random Forest Classifier Model"
   ]
  },
  {
   "cell_type": "markdown",
   "id": "27cafc83",
   "metadata": {},
   "source": [
    "### Plotting Accuracy & Fairness Metric based on max-depth"
   ]
  },
  {
   "cell_type": "code",
   "execution_count": 121,
   "id": "b71a186d",
   "metadata": {},
   "outputs": [
    {
     "data": {
      "text/plain": [
       "Text(0.5, 0, 'Hyperparameter Max depth')"
      ]
     },
     "execution_count": 121,
     "metadata": {},
     "output_type": "execute_result"
    },
    {
     "data": {
      "image/png": "[encoded data removed]",
      "text/plain": [
       "<Figure size 432x288 with 1 Axes>"
      ]
     },
     "metadata": {
      "needs_background": "light"
     },
     "output_type": "display_data"
    }
   ],
   "source": [
    "## Plotting Accuracy & C-value using matplot lib\n",
    "accuracy_rf=[]\n",
    "r_ange=np.arange(1, 20, 1)\n",
    "for i in r_ange:\n",
    "    learner = RandomForestClassifier(max_depth = i)\n",
    "    learner.fit(X_train, y_train)\n",
    "    predictions= learner.predict(X_test)\n",
    "        \n",
    "    accuracy=sum(predictions==y_test)/len(y_test)   \n",
    "    accuracy_rf.append(accuracy)\n",
    "    \n",
    "plt.plot(r_ange,accuracy_rf)\n",
    "plt.ylabel (\"Accuracy \")\n",
    "plt.xlabel(\"Hyperparameter Max depth\")\n"
   ]
  },
  {
   "cell_type": "code",
   "execution_count": 120,
   "id": "07b4ed0e",
   "metadata": {},
   "outputs": [
    {
     "data": {
      "text/plain": [
       "Text(0.5, 0, 'Max depth')"
      ]
     },
     "execution_count": 120,
     "metadata": {},
     "output_type": "execute_result"
    },
    {
     "data": {
      "image/png": "[encoded data removed]",
      "text/plain": [
       "<Figure size 432x288 with 1 Axes>"
      ]
     },
     "metadata": {
      "needs_background": "light"
     },
     "output_type": "display_data"
    }
   ],
   "source": [
    "tpr=[]\n",
    "\n",
    "r_ange=np.arange(0.001, 10, 1)\n",
    "for i in r_ange:\n",
    "    learner = RandomForestClassifier(max_depth = i)\n",
    "    learner.fit(X_train, y_train)\n",
    "    predictions= learner.predict(X_test)\n",
    "    \n",
    "    test_pred = test.copy()\n",
    "    test_pred.labels = predictions\n",
    "    \n",
    "    ### finding equal oppurtunity metric \n",
    "    metric = ClassificationMetric(test, test_pred, unprivileged_groups=unprivileged_groups, privileged_groups=privileged_groups)\n",
    "    metric_arrs=(metric.equal_opportunity_difference())\n",
    "    #print(\"Equal oppurtunity difference in Fold: {} \".format(k+1),metric_arrs)\n",
    "    tpr.append(metric_arrs)\n",
    "    \n",
    "plt.plot(r_ange,tpr)\n",
    "plt.ylabel (\"Equality of Oppurtunity\")\n",
    "plt.xlabel(\"Max depth\")"
   ]
  },
  {
   "cell_type": "markdown",
   "id": "e4494849",
   "metadata": {},
   "source": [
    "## Final Evaluation on Test data"
   ]
  },
  {
   "cell_type": "markdown",
   "id": "07437d04",
   "metadata": {},
   "source": [
    "## Model 1 : Best Accurate "
   ]
  },
  {
   "cell_type": "code",
   "execution_count": 99,
   "id": "a5d62736",
   "metadata": {},
   "outputs": [
    {
     "name": "stdout",
     "output_type": "stream",
     "text": [
      "Accuracy 0.7833333333333333\n",
      "Equal oppurtunity difference  -0.021929824561403577\n"
     ]
    }
   ],
   "source": [
    "## Random Forest classifier\n",
    "learner = RandomForestClassifier(max_depth = 16)\n",
    "learner.fit(X_train, y_train)\n",
    "predictions= learner.predict(X_test)\n",
    "\n",
    "test_pred = test.copy()\n",
    "test_pred.labels = predictions\n",
    "    \n",
    "### finding equal oppurtunity metric \n",
    "metric = ClassificationMetric(test, test_pred, unprivileged_groups=unprivileged_groups, privileged_groups=privileged_groups)\n",
    "metric_arrs=(metric.equal_opportunity_difference())\n",
    "\n",
    "        \n",
    "print(\"Accuracy\", sum(predictions==y_test)/len(y_test))\n",
    "print(\"Equal oppurtunity difference \",metric_arrs)"
   ]
  },
  {
   "cell_type": "markdown",
   "id": "eedb1218",
   "metadata": {},
   "source": [
    "## Model 2 : Best Fairness Metric"
   ]
  },
  {
   "cell_type": "code",
   "execution_count": 109,
   "id": "2aa89d7f",
   "metadata": {},
   "outputs": [
    {
     "name": "stdout",
     "output_type": "stream",
     "text": [
      "Accuracy 0.7033333333333334\n",
      "Equal oppurtunity difference  0.0\n"
     ]
    }
   ],
   "source": [
    "## Random Forest classifier\n",
    "learner = RandomForestClassifier(max_depth = 2)\n",
    "learner.fit(X_train, y_train)\n",
    "predictions= learner.predict(X_test)\n",
    "\n",
    "test_pred = test.copy()\n",
    "test_pred.labels = predictions\n",
    "    \n",
    "### finding equal oppurtunity metric \n",
    "metric = ClassificationMetric(test, test_pred, unprivileged_groups=unprivileged_groups, privileged_groups=privileged_groups)\n",
    "metric_arrs=(metric.equal_opportunity_difference())\n",
    "\n",
    "        \n",
    "print(\"Accuracy\", sum(predictions==y_test)/len(y_test))\n",
    "print(\"Equal oppurtunity difference \",metric_arrs)"
   ]
  },
  {
   "cell_type": "markdown",
   "id": "57ec5a7c",
   "metadata": {},
   "source": [
    "# Additional Task"
   ]
  },
  {
   "cell_type": "markdown",
   "id": "819ae567",
   "metadata": {},
   "source": [
    "### Excluding Sensitive attribute (SEX)"
   ]
  },
  {
   "cell_type": "code",
   "execution_count": 172,
   "id": "a1e3e723",
   "metadata": {},
   "outputs": [],
   "source": [
    "new_aif = BinaryLabelDataset(favorable_label='1',\n",
    "                                unfavorable_label='0',\n",
    "                                df=df_aif,\n",
    "                                label_names= ['sex'],\n",
    "                                protected_attribute_names=['race'],\n",
    "                                )"
   ]
  },
  {
   "cell_type": "code",
   "execution_count": 173,
   "id": "68d71b7b",
   "metadata": {},
   "outputs": [],
   "source": [
    "train, test = new_aif.split([0.7], shuffle=True)"
   ]
  },
  {
   "cell_type": "code",
   "execution_count": 174,
   "id": "2a8b4f96",
   "metadata": {},
   "outputs": [
    {
     "name": "stdout",
     "output_type": "stream",
     "text": [
      "training data size (34189, 17)\n",
      "dataset feature names ['race', 'Age (decade)=10', 'Age (decade)=20', 'Age (decade)=30', 'Age (decade)=40', 'Age (decade)=50', 'Age (decade)=60', 'Age (decade)=>=70', 'Education Years=6', 'Education Years=7', 'Education Years=8', 'Education Years=9', 'Education Years=10', 'Education Years=11', 'Education Years=12', 'Education Years=<6', 'Education Years=>12']\n"
     ]
    }
   ],
   "source": [
    "print(\"training data size\", train.features.shape)\n",
    "print(\"dataset feature names\", train.feature_names)"
   ]
  },
  {
   "cell_type": "code",
   "execution_count": 175,
   "id": "3bfd2aff",
   "metadata": {},
   "outputs": [],
   "source": [
    "#Normalize the dataset, both train and test.\n",
    "scale_orig = StandardScaler()\n",
    "X_train = scale_orig.fit_transform(train.features)\n",
    "y_train = train.labels.ravel()\n",
    "\n",
    "X_test = scale_orig.transform(test.features) \n",
    "y_test = test.labels.ravel()"
   ]
  },
  {
   "cell_type": "code",
   "execution_count": 177,
   "id": "96e3f29a",
   "metadata": {},
   "outputs": [],
   "source": [
    "privileged_groups = [{'race': 1}]\n",
    "unprivileged_groups = [{'race': 0}]"
   ]
  },
  {
   "cell_type": "code",
   "execution_count": 184,
   "id": "99eaf493",
   "metadata": {},
   "outputs": [
    {
     "data": {
      "text/plain": [
       "Text(0.5, 0, 'C value')"
      ]
     },
     "execution_count": 184,
     "metadata": {},
     "output_type": "execute_result"
    },
    {
     "data": {
      "image/png": "[encoded data removed]",
      "text/plain": [
       "<Figure size 432x288 with 1 Axes>"
      ]
     },
     "metadata": {
      "needs_background": "light"
     },
     "output_type": "display_data"
    }
   ],
   "source": [
    "## Plotting Accuracy & C-value using matplot lib\n",
    "accuracy=[]\n",
    "r_ange=np.arange(0.00001, 0.001, 0.0001)\n",
    "for i in r_ange:\n",
    "    x,_=accuracy_fold(i)\n",
    "    accuracy.append(x)\n",
    "    \n",
    "plt.plot(r_ange,accuracy)\n",
    "plt.ylabel (\"Accuracy after 5-fold cross-validation\")\n",
    "plt.xlabel(\"C value\")\n"
   ]
  },
  {
   "cell_type": "code",
   "execution_count": 200,
   "id": "009d175c",
   "metadata": {},
   "outputs": [
    {
     "data": {
      "text/plain": [
       "(0.6187369380933698, -0.7704506462536079)"
      ]
     },
     "execution_count": 200,
     "metadata": {},
     "output_type": "execute_result"
    }
   ],
   "source": [
    "## best accurate model in 5-folds\n",
    "accuracy_fold(0.002)"
   ]
  },
  {
   "cell_type": "code",
   "execution_count": 192,
   "id": "260f22bc",
   "metadata": {},
   "outputs": [
    {
     "data": {
      "text/plain": [
       "Text(0.5, 0, 'C value')"
      ]
     },
     "execution_count": 192,
     "metadata": {},
     "output_type": "execute_result"
    },
    {
     "data": {
      "image/png": "[encoded data removed]",
      "text/plain": [
       "<Figure size 432x288 with 1 Axes>"
      ]
     },
     "metadata": {
      "needs_background": "light"
     },
     "output_type": "display_data"
    }
   ],
   "source": [
    "## Plotting Fairness metric & C-value using matplot lib\n",
    "tpr_kfold=[]\n",
    "r_ange=np.arange(0.9, 1, 0.001)\n",
    "for i in r_ange:\n",
    "    _,y=accuracy_fold(i)\n",
    "    tpr_kfold.append(y)\n",
    "\n",
    "plt.plot(r_ange,tpr_kfold)\n",
    "plt.ylabel (\"Equality of Oppurtunity after 5-fold\")\n",
    "plt.xlabel(\"C value\")"
   ]
  },
  {
   "cell_type": "code",
   "execution_count": 203,
   "id": "5edabb06",
   "metadata": {},
   "outputs": [
    {
     "data": {
      "text/plain": [
       "(0.5993447683691053, -0.6278697422381996)"
      ]
     },
     "execution_count": 203,
     "metadata": {},
     "output_type": "execute_result"
    }
   ],
   "source": [
    "## best fairness model in 5 folds\n",
    "accuracy_fold(0.99)"
   ]
  },
  {
   "cell_type": "code",
   "execution_count": 202,
   "id": "a57e3587",
   "metadata": {},
   "outputs": [
    {
     "name": "stdout",
     "output_type": "stream",
     "text": [
      "Accuracy: 0.6673718692417935\n",
      "\n",
      "Equal oppurtunity difference : -0.28056885754420524\n"
     ]
    },
    {
     "data": {
      "image/png": "[encoded data removed]",
      "text/plain": [
       "<Figure size 432x288 with 2 Axes>"
      ]
     },
     "metadata": {
      "needs_background": "light"
     },
     "output_type": "display_data"
    }
   ],
   "source": [
    "## best accurate model (evaluation on test set)\n",
    "test_data_eval(0.002)"
   ]
  },
  {
   "cell_type": "code",
   "execution_count": 205,
   "id": "01e4d008",
   "metadata": {},
   "outputs": [
    {
     "name": "stdout",
     "output_type": "stream",
     "text": [
      "Accuracy: 0.6681225687572511\n",
      "\n",
      "Equal oppurtunity difference : -0.26543008546682934\n"
     ]
    },
    {
     "data": {
      "image/png": "[encoded data removed]",
      "text/plain": [
       "<Figure size 432x288 with 2 Axes>"
      ]
     },
     "metadata": {
      "needs_background": "light"
     },
     "output_type": "display_data"
    }
   ],
   "source": [
    "## best fairness model (evaluation on test set)\n",
    "test_data_eval(0.099)"
   ]
  },
  {
   "cell_type": "code",
   "execution_count": 191,
   "id": "3b00f3b7",
   "metadata": {},
   "outputs": [
    {
     "data": {
      "text/plain": [
       "Text(0.5, 0, 'C value')"
      ]
     },
     "execution_count": 191,
     "metadata": {},
     "output_type": "execute_result"
    },
    {
     "data": {
      "image/png": "[encoded data removed]",
      "text/plain": [
       "<Figure size 432x288 with 1 Axes>"
      ]
     },
     "metadata": {
      "needs_background": "light"
     },
     "output_type": "display_data"
    }
   ],
   "source": [
    "## Plotting Accuracy & C-value after re-weighing\n",
    "avg_accuracy=[]\n",
    "r_ange=np.arange(0.0001, 0.01, 0.001)\n",
    "\n",
    "for i in r_ange:\n",
    "    x,_=reweigh_task(i)\n",
    "    avg_accuracy.append(x)\n",
    "    \n",
    "plt.plot(r_ange,avg_accuracy)\n",
    "plt.ylabel (\"Average 5-Fold Accuracy after re-weighing\")\n",
    "plt.xlabel(\"C value\")\n",
    "\n",
    "#plt.legend()"
   ]
  },
  {
   "cell_type": "code",
   "execution_count": 194,
   "id": "c20d41a4",
   "metadata": {},
   "outputs": [
    {
     "data": {
      "text/plain": [
       "(0.6527828788721349, -0.3338415791157619)"
      ]
     },
     "execution_count": 194,
     "metadata": {},
     "output_type": "execute_result"
    }
   ],
   "source": [
    "reweigh_task(0.001)"
   ]
  },
  {
   "cell_type": "code",
   "execution_count": 195,
   "id": "3ae5cf6a",
   "metadata": {},
   "outputs": [
    {
     "data": {
      "text/plain": [
       "Text(0.5, 0, 'C value')"
      ]
     },
     "execution_count": 195,
     "metadata": {},
     "output_type": "execute_result"
    },
    {
     "data": {
      "image/png": "[encoded data removed]",
      "text/plain": [
       "<Figure size 432x288 with 1 Axes>"
      ]
     },
     "metadata": {
      "needs_background": "light"
     },
     "output_type": "display_data"
    }
   ],
   "source": [
    "## Plotting Fairness metric & C-value after re-weighning\n",
    "tpr_diff=[]\n",
    "r_ange=np.arange(0.0001, 0.015, 0.001)\n",
    "\n",
    "for i in r_ange:\n",
    "    _,y=reweigh_task(i)\n",
    "    tpr_diff.append(y)\n",
    "      \n",
    "plt.plot(r_ange,tpr_diff)\n",
    "plt.ylabel (\"Equality of Oppurtunity after reweighing\")\n",
    "plt.xlabel(\"C value\")\n",
    "\n",
    "#plt.legend()"
   ]
  },
  {
   "cell_type": "code",
   "execution_count": 199,
   "id": "5bf29809",
   "metadata": {},
   "outputs": [
    {
     "data": {
      "text/plain": [
       "(0.6271606034693374, -0.07812312343262243)"
      ]
     },
     "execution_count": 199,
     "metadata": {},
     "output_type": "execute_result"
    }
   ],
   "source": [
    "reweigh_task(0.01)"
   ]
  },
  {
   "cell_type": "code",
   "execution_count": 206,
   "id": "4dfdaaa1",
   "metadata": {},
   "outputs": [
    {
     "name": "stdout",
     "output_type": "stream",
     "text": [
      "Accuracy: 0.6723537842080121\n",
      "\n",
      "Equal oppurtunity difference : -0.0010031482255005164\n"
     ]
    },
    {
     "data": {
      "image/png": "[encoded data removed]",
      "text/plain": [
       "<Figure size 432x288 with 2 Axes>"
      ]
     },
     "metadata": {
      "needs_background": "light"
     },
     "output_type": "display_data"
    }
   ],
   "source": [
    "## best accurate model after re-weighing (evaluation on test set)\n",
    "test_data_eval_reweigh(0.001)"
   ]
  },
  {
   "cell_type": "code",
   "execution_count": 207,
   "id": "3ee0421f",
   "metadata": {},
   "outputs": [
    {
     "name": "stdout",
     "output_type": "stream",
     "text": [
      "Accuracy: 0.6723537842080121\n",
      "\n",
      "Equal oppurtunity difference : -0.0010031482255005164\n"
     ]
    },
    {
     "data": {
      "image/png": "[encoded data removed]",
      "text/plain": [
       "<Figure size 432x288 with 2 Axes>"
      ]
     },
     "metadata": {
      "needs_background": "light"
     },
     "output_type": "display_data"
    }
   ],
   "source": [
    "## best fairness model after reweighing(evaluation on test set)\n",
    "test_data_eval_reweigh(0.01)"
   ]
  }
 ],
 "metadata": {
  "kernelspec": {
   "display_name": "Python 3 (ipykernel)",
   "language": "python",
   "name": "python3"
  },
  "language_info": {
   "codemirror_mode": {
    "name": "ipython",
    "version": 3
   },
   "file_extension": ".py",
   "mimetype": "text/x-python",
   "name": "python",
   "nbconvert_exporter": "python",
   "pygments_lexer": "ipython3",
   "version": "3.9.12"
  }
 },
 "nbformat": 4,
 "nbformat_minor": 5
}
